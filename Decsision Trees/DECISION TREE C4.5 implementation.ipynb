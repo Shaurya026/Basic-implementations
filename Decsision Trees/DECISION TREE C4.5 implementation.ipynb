{
 "cells": [
  {
   "cell_type": "code",
   "execution_count": 1,
   "metadata": {},
   "outputs": [],
   "source": [
    "import math\n",
    "from xml.etree import ElementTree as ET\n",
    "\n",
    "def prettify(elem, level=0):\n",
    "    i = \"\\n\" + level*\"  \"\n",
    "    if len(elem):\n",
    "        if not elem.text or not elem.text.strip():\n",
    "            elem.text = i + \"  \"\n",
    "        for e in elem:\n",
    "            prettify(e, level+1)\n",
    "        if not e.tail or not e.tail.strip():\n",
    "            e.tail = i\n",
    "    if level and (not elem.tail or not elem.tail.strip()):\n",
    "        elem.tail = i\n",
    "    return elem\n",
    "\n",
    "def isnum(attr):\n",
    "    for x in set(attr):\n",
    "        if not x==\"?\":\n",
    "            try:\n",
    "                x=float(x)\n",
    "                return isinstance(x,float)\n",
    "            except ValueError:\n",
    "                return False\n",
    "    return True\n",
    "\n",
    "def entropy(x):\n",
    "    ent=0\n",
    "    for k in set(x):\n",
    "        p_i=float(x.count(k))/len(x)\n",
    "        ent=ent-p_i* math.log(p_i,2)\n",
    "    return ent\n",
    "\n",
    "def gain_ratio(category,attr):\n",
    "    s=0\n",
    "    cat=[]\n",
    "    att=[]\n",
    "    for i in range(len(attr)):\n",
    "        if not attr[i]==\"?\":\n",
    "            cat.append(category[i])\n",
    "            att.append(attr[i])\n",
    "    for i in set(att):      \n",
    "        p_i=float(att.count(i))/len(att)\n",
    "        cat_i=[]\n",
    "        for j in range(len(cat)):\n",
    "            if att[j]==i:\n",
    "                cat_i.append(cat[j])\n",
    "        s=s+p_i*entropy(cat_i)\n",
    "    gain=entropy(cat)-s\n",
    "    ent_att=entropy(att)\n",
    "    if ent_att==0:\n",
    "        return 0\n",
    "    else:\n",
    "        return gain/ent_att\n",
    "\n",
    "def gain(category,attr):\n",
    "    cats=[]\n",
    "    for i in range(len(attr)):\n",
    "        if not attr[i]==\"?\":\n",
    "            cats.append([float(attr[i]),category[i]])\n",
    "    cats=sorted(cats, key=lambda x:x[0])\n",
    "    \n",
    "    cat=[cats[i][1] for i in range(len(cats))]\n",
    "    att=[cats[i][0] for i in range(len(cats))]\n",
    "    if len(set(att))==1:\n",
    "        return 0\n",
    "    else:\n",
    "        gains=[]\n",
    "        div_point=[]\n",
    "        for i in range(1,len(cat)):\n",
    "            if not att[i]==att[i-1]:\n",
    "                gains.append(entropy(cat[:i])*float(i)/len(cat)+entropy(cat[i:])*(1-float(i)/len(cat)))\n",
    "                div_point.append(i)\n",
    "        gain=entropy(cat)-min(gains)\n",
    "    \n",
    "        p_1=float(div_point[gains.index(min(gains))])/len(cat)\n",
    "        ent_attr= -p_1*math.log(p_1,2)-(1-p_1)*math.log((1-p_1),2)\n",
    "        return gain/ent_attr\n",
    "\n",
    "def division_point(category,attr):\n",
    "    cats=[]\n",
    "    for i in range(len(attr)):\n",
    "        if not attr[i]==\"?\":\n",
    "            cats.append([float(attr[i]),category[i]])\n",
    "    cats=sorted(cats, key=lambda x:x[0])\n",
    "    \n",
    "    cat=[cats[i][1] for i in range(len(cats))]\n",
    "    att=[cats[i][0] for i in range(len(cats))]\n",
    "    gains=[]\n",
    "    div_point=[]\n",
    "    for i in range(1,len(cat)):\n",
    "        if not att[i]==att[i-1]:\n",
    "            gains.append(entropy(cat[:i])*float(i)/len(cat)+entropy(cat[i:])*(1-float(i)/len(cat)))\n",
    "            div_point.append(i)\n",
    "    return att[div_point[gains.index(min(gains))]]\n",
    "\n",
    "def grow_tree(data,category,parent,attrs_names):\n",
    "    if len(set(category))>1:\n",
    "        \n",
    "        division=[]\n",
    "        for i in range(len(data)):\n",
    "            if set(data[i])==set(\"?\"):\n",
    "                division.append(0)\n",
    "            else:\n",
    "                if (isnum(data[i])):\n",
    "                    division.append(gain(category,data[i]))           \n",
    "                else:\n",
    "                    division.append(gain_ratio(category,data[i]))\n",
    "        if max(division)==0:\n",
    "            num_max=0\n",
    "            for cat in set(category):\n",
    "                num_cat=category.count(cat)\n",
    "                if num_cat>num_max:\n",
    "                    num_max=num_cat\n",
    "                    most_cat=cat                \n",
    "            parent.text=most_cat\n",
    "        else:\n",
    "            index_selected=division.index(max(division))\n",
    "            name_selected=str(attrs_names[index_selected])\n",
    "            if isnum(data[index_selected]):\n",
    "                div_point=division_point(category,data[index_selected])\n",
    "                r_son_data=[[] for i in range(len(data))]\n",
    "                r_son_category=[]\n",
    "                l_son_data=[[] for i in range(len(data))]\n",
    "                l_son_category=[]\n",
    "                for i in range(len(category)):\n",
    "                    if not data[index_selected][i]==\"?\":\n",
    "                        if float(data[index_selected][i])<float(div_point):\n",
    "                            l_son_category.append(category[i])\n",
    "                            for j in range(len(data)):\n",
    "                                l_son_data[j].append(data[j][i])     \n",
    "                        else:\n",
    "                            r_son_category.append(category[i])\n",
    "                            for j in range(len(data)):\n",
    "                                r_son_data[j].append(data[j][i])  \n",
    "                if len(l_son_category)>0 and len(r_son_category)>0:\n",
    "                    p_l=float(len(l_son_category))/(len(data[index_selected])-data[index_selected].count(\"?\"))\n",
    "                    son=ET.SubElement(parent,name_selected,{'value':str(div_point),\"flag\":\"l\",\"p\":str(round(p_l,3))})\n",
    "                    grow_tree(l_son_data,l_son_category,son,attrs_names)\n",
    "                    son=ET.SubElement(parent,name_selected,{'value':str(div_point),\"flag\":\"r\",\"p\":str(round(1-p_l,3))})\n",
    "                    grow_tree(r_son_data,r_son_category,son,attrs_names)\n",
    "                else:\n",
    "                    num_max=0\n",
    "                    for cat in set(category):\n",
    "                        num_cat=category.count(cat)\n",
    "                        if num_cat>num_max:\n",
    "                            num_max=num_cat\n",
    "                            most_cat=cat                \n",
    "                    parent.text=most_cat\n",
    "            else:\n",
    "                for k in set(data[index_selected]):\n",
    "                    if not k==\"?\":\n",
    "                        son_data=[[] for i in range(len(data))]\n",
    "                        son_category=[]\n",
    "                        for i in range(len(category)):\n",
    "                            if data[index_selected][i]==k:\n",
    "                                son_category.append(category[i])\n",
    "                                for j in range(len(data)):\n",
    "                                    son_data[j].append(data[j][i])\n",
    "                        son=ET.SubElement(parent,name_selected,{'value':k,\"flag\":\"m\",'p':str(round(float(len(son_category))/(len(data[index_selected])-data[index_selected].count(\"?\")),3))}) \n",
    "                        grow_tree(son_data,son_category,son,attrs_names)   \n",
    "    else:\n",
    "        parent.text=category[0]\n",
    "\n",
    "def add(d1,d2):\n",
    "    d=d1\n",
    "    for i in d2:\n",
    "        if d.has_key(i):\n",
    "            d[i]=d[i]+d2[i]\n",
    "        else:\n",
    "            d[i]=d2[i]\n",
    "    return d\n",
    "\n",
    "def decision(root,obs,attrs_names,p):\n",
    "    if root.hasChildNodes():\n",
    "        att_name=root.firstChild.nodeName\n",
    "        if att_name==\"#text\":\n",
    "            \n",
    "            return decision(root.firstChild,obs,attrs_names,p)  \n",
    "        else:\n",
    "            att=obs[attrs_names.index(att_name)]\n",
    "            if att==\"?\":\n",
    "                d={}\n",
    "                for child in root.childNodes:                    \n",
    "                    d=add(d,decision(child,obs,attrs_names,p*float(child.getAttribute(\"p\"))))\n",
    "                return d\n",
    "            else:\n",
    "                for child in root.childNodes:\n",
    "                    if child.getAttribute(\"flag\")==\"m\" and child.getAttribute(\"value\")==att or \\\n",
    "                        child.getAttribute(\"flag\")==\"l\" and float(att)<float(child.getAttribute(\"value\")) or \\\n",
    "                        child.getAttribute(\"flag\")==\"r\" and float(att)>=float(child.getAttribute(\"value\")):\n",
    "                        return decision(child,obs,attrs_names,p)    \n",
    "    else:\n",
    "        return {root.nodeValue:p}"
   ]
  },
  {
   "cell_type": "code",
   "execution_count": 2,
   "metadata": {},
   "outputs": [],
   "source": [
    "from xml.dom import minidom"
   ]
  },
  {
   "cell_type": "code",
   "execution_count": 4,
   "metadata": {},
   "outputs": [],
   "source": [
    "from sklearn.base import BaseEstimator, ClassifierMixin\n",
    "from sklearn.utils.validation import check_array, check_is_fitted, check_X_y\n",
    "\n",
    "class C45(BaseEstimator, ClassifierMixin):\n",
    "    def __init__(self, attrNames=None):\n",
    "        if attrNames is not None:\n",
    "            attrNames = [''.join(i for i in x if i.isalnum()).replace(' ', '_') for x in attrNames]\n",
    "        self.attrNames = attrNames\n",
    "\n",
    "    def fit(self, X, y):\n",
    "        X, y = check_X_y(X, y)\n",
    "        self.X_ = X\n",
    "        self.y_ = y\n",
    "        self.resultType = type(y[0])\n",
    "        if self.attrNames is None:\n",
    "            self.attrNames = [f'attr{x}' for x in range(len(self.X_[0]))]\n",
    "\n",
    "        assert(len(self.attrNames) == len(self.X_[0]))\n",
    "\n",
    "        data = [[] for i in range(len(self.attrNames))]\n",
    "        categories = []\n",
    "\n",
    "        for i in range(len(self.X_)):\n",
    "            categories.append(str(self.y_[i]))\n",
    "            for j in range(len(self.attrNames)):\n",
    "                data[j].append(self.X_[i][j])\n",
    "        root = ET.Element('DecisionTree')\n",
    "        grow_tree(data,categories,root,self.attrNames)\n",
    "        self.tree_ = ET.tostring(root, encoding=\"unicode\")\n",
    "        return self\n",
    "\n",
    "    def predict(self, X):\n",
    "        check_is_fitted(self, ['tree_', 'resultType', 'attrNames'])\n",
    "        X = check_array(X)\n",
    "        dom = minidom.parseString(self.tree_)\n",
    "        root = dom.childNodes[0]\n",
    "        prediction = []\n",
    "        for i in range(len(X)):\n",
    "            answerlist = decision(root,X[i],self.attrNames,1)\n",
    "            answerlist = sorted(answerlist.items(), key=lambda x:x[1], reverse = True )\n",
    "            answer = answerlist[0][0]\n",
    "            prediction.append((self.resultType)(answer))\n",
    "        return prediction\n",
    "\n",
    "    def printTree(self):\n",
    "        check_is_fitted(self, ['tree_'])\n",
    "        dom = minidom.parseString(self.tree_)\n",
    "        print(dom.toprettyxml(newl=\"\\r\\n\"))"
   ]
  },
  {
   "cell_type": "code",
   "execution_count": 5,
   "metadata": {},
   "outputs": [
    {
     "name": "stdout",
     "output_type": "stream",
     "text": [
      "Accuracy: 0.9333333333333333\n",
      "<?xml version=\"1.0\" ?>\r\n",
      "<DecisionTree>\r\n",
      "\t<petallengthcm value=\"3.3\" flag=\"l\" p=\"0.333\">0</petallengthcm>\r\n",
      "\t<petallengthcm value=\"3.3\" flag=\"r\" p=\"0.667\">\r\n",
      "\t\t<petallengthcm value=\"4.8\" flag=\"l\" p=\"0.36\">1</petallengthcm>\r\n",
      "\t\t<petallengthcm value=\"4.8\" flag=\"r\" p=\"0.64\">\r\n",
      "\t\t\t<petalwidthcm value=\"1.8\" flag=\"l\" p=\"0.094\">\r\n",
      "\t\t\t\t<petallengthcm value=\"5.1\" flag=\"l\" p=\"0.333\">1</petallengthcm>\r\n",
      "\t\t\t\t<petallengthcm value=\"5.1\" flag=\"r\" p=\"0.667\">2</petallengthcm>\r\n",
      "\t\t\t</petalwidthcm>\r\n",
      "\t\t\t<petalwidthcm value=\"1.8\" flag=\"r\" p=\"0.906\">2</petalwidthcm>\r\n",
      "\t\t</petallengthcm>\r\n",
      "\t</petallengthcm>\r\n",
      "</DecisionTree>\r\n",
      "\n"
     ]
    }
   ],
   "source": [
    "from sklearn.datasets import load_iris\n",
    "from sklearn.model_selection import train_test_split\n",
    "\n",
    "iris = load_iris()\n",
    "clf = C45(attrNames=iris.feature_names)\n",
    "X_train, X_test, y_train, y_test = train_test_split(iris.data, iris.target, test_size=0.5)\n",
    "clf.fit(X_train, y_train)\n",
    "print(f'Accuracy: {clf.score(X_test, y_test)}')\n",
    "clf.printTree()"
   ]
  },
  {
   "cell_type": "code",
   "execution_count": 21,
   "metadata": {},
   "outputs": [
    {
     "name": "stdout",
     "output_type": "stream",
     "text": [
      "[' sepal length ', ' sepal w', ' petal length ', ' petal w', ' class']\n"
     ]
    }
   ],
   "source": [
    "#acquiring the column names\n",
    "columns = []\n",
    "flag = False\n",
    "ctr = 0\n",
    "file_name = 'Iris_names.txt'\n",
    "with open(file_name,'r') as f:\n",
    "    file_stuff = f.readlines()\n",
    "    for i in file_stuff:\n",
    "        if flag and ctr != 5:\n",
    "            str = \"\"\n",
    "            ctr += 1\n",
    "            p = False\n",
    "            for j in i:\n",
    "                if j == '.':\n",
    "                    p = True\n",
    "                    continue\n",
    "                if j == 'i' or j ==':':\n",
    "                    break\n",
    "                if p:\n",
    "                    str += j\n",
    "            columns.append(str)\n",
    "        if i[0] == '7':\n",
    "            flag = True\n",
    "# adding a last column of dependent variable:\n",
    "#columns.append('income')\n",
    "print(columns)"
   ]
  },
  {
   "cell_type": "code",
   "execution_count": 41,
   "metadata": {},
   "outputs": [
    {
     "name": "stdout",
     "output_type": "stream",
     "text": [
      "C4.5  tree is going to be built...\n",
      "Accuracy:  70.0 % on  150  instances\n",
      "finished in  0.8497393131256104  seconds\n"
     ]
    }
   ],
   "source": [
    "from chefboost import Chefboost as chef\n",
    "import pandas as pd\n",
    "import numpy as np\n",
    "\n",
    "columns[-1] = 'Decision'\n",
    "df = pd.read_csv('Iris.csv', names = columns)\n",
    "#df = pd.DataFrame(df.data, columns=df.feature_names)\n",
    "config = {'algorithm': 'C4.5'}\n",
    "model = chef.fit(df, config)"
   ]
  },
  {
   "cell_type": "markdown",
   "metadata": {},
   "source": [
    "### the above dataset was quite small so we didn't get a desired result let's try with a bigger data set like breast cancer"
   ]
  },
  {
   "cell_type": "code",
   "execution_count": 44,
   "metadata": {},
   "outputs": [],
   "source": [
    "from sklearn.datasets import load_breast_cancer\n",
    "\n",
    "d = load_breast_cancer()\n",
    "df_ = pd.DataFrame(d.data, columns=d.feature_names)\n",
    "y = d.target\n",
    "y = [\"NO\" if i == 0 else \"YES\" for i in y ]\n",
    "df_['Decision'] = y"
   ]
  },
  {
   "cell_type": "code",
   "execution_count": 47,
   "metadata": {},
   "outputs": [
    {
     "data": {
      "text/plain": [
       "Index(['mean radius', 'mean texture', 'mean perimeter', 'mean area',\n",
       "       'mean smoothness', 'mean compactness', 'mean concavity',\n",
       "       'mean concave points', 'mean symmetry', 'mean fractal dimension',\n",
       "       'radius error', 'texture error', 'perimeter error', 'area error',\n",
       "       'smoothness error', 'compactness error', 'concavity error',\n",
       "       'concave points error', 'symmetry error', 'fractal dimension error',\n",
       "       'worst radius', 'worst texture', 'worst perimeter', 'worst area',\n",
       "       'worst smoothness', 'worst compactness', 'worst concavity',\n",
       "       'worst concave points', 'worst symmetry', 'worst fractal dimension',\n",
       "       'Decision'],\n",
       "      dtype='object')"
      ]
     },
     "execution_count": 47,
     "metadata": {},
     "output_type": "execute_result"
    }
   ],
   "source": [
    "df_.columns"
   ]
  },
  {
   "cell_type": "code",
   "execution_count": 48,
   "metadata": {},
   "outputs": [
    {
     "name": "stdout",
     "output_type": "stream",
     "text": [
      "C4.5  tree is going to be built...\n",
      "Accuracy:  98.94551845342707 % on  569  instances\n",
      "finished in  77.18763709068298  seconds\n"
     ]
    }
   ],
   "source": [
    "config = {'algorithm': 'C4.5'}\n",
    "model_ = chef.fit(df_, config)"
   ]
  },
  {
   "cell_type": "markdown",
   "metadata": {},
   "source": [
    "### Hence C4.5 requires more data to perform well ...let's prove this by trying on adult data set as well :"
   ]
  },
  {
   "cell_type": "code",
   "execution_count": 50,
   "metadata": {},
   "outputs": [
    {
     "name": "stdout",
     "output_type": "stream",
     "text": [
      "['age', 'workclass', 'fnlwgt', 'education', 'education-num', 'marital-status', 'occupation', 'relationship', 'race', 'sex', 'capital-gain', 'capital-loss', 'hours-per-week', 'native-country', 'income']\n"
     ]
    }
   ],
   "source": [
    "#acquiring the column names\n",
    "columns = []\n",
    "file_name = 'adult_names.txt'\n",
    "with open(file_name,'r') as f:\n",
    "    file_stuff = f.readlines()\n",
    "    for i in file_stuff:\n",
    "        if ord(i[0]) >= ord('a') and ord(i[0]) <= ord('z'):\n",
    "            str = \"\"\n",
    "            j = 0\n",
    "            while i[j] != ':':\n",
    "                str += i[j]\n",
    "                j+=1\n",
    "            columns.append(str)\n",
    "# adding a last column of dependent variable:\n",
    "columns.append('income')\n",
    "print(columns)"
   ]
  },
  {
   "cell_type": "code",
   "execution_count": 57,
   "metadata": {},
   "outputs": [],
   "source": [
    "columns[-1] = 'Decision'\n",
    "df = pd.read_csv('adult_train.csv',names = columns)\n",
    "df.head(10)\n",
    "x = df[:1000]"
   ]
  },
  {
   "cell_type": "code",
   "execution_count": 58,
   "metadata": {},
   "outputs": [
    {
     "name": "stdout",
     "output_type": "stream",
     "text": [
      "C4.5  tree is going to be built...\n",
      "Accuracy:  94.7 % on  1000  instances\n",
      "finished in  13.87610387802124  seconds\n"
     ]
    }
   ],
   "source": [
    "config = {'algorithm': 'C4.5'}\n",
    "model_ = chef.fit(x, config)"
   ]
  },
  {
   "cell_type": "code",
   "execution_count": null,
   "metadata": {},
   "outputs": [],
   "source": []
  }
 ],
 "metadata": {
  "kernelspec": {
   "display_name": "Python 3",
   "language": "python",
   "name": "python3"
  },
  "language_info": {
   "codemirror_mode": {
    "name": "ipython",
    "version": 3
   },
   "file_extension": ".py",
   "mimetype": "text/x-python",
   "name": "python",
   "nbconvert_exporter": "python",
   "pygments_lexer": "ipython3",
   "version": "3.8.3"
  }
 },
 "nbformat": 4,
 "nbformat_minor": 4
}
