{
 "cells": [
  {
   "cell_type": "markdown",
   "metadata": {},
   "source": [
    "# Trying IRIS dataset with c4.5 we will be using chef library fir implementation:  \n",
    "#### IRIS:"
   ]
  },
  {
   "cell_type": "code",
   "execution_count": 2,
   "metadata": {},
   "outputs": [],
   "source": [
    "from chefboost import Chefboost as chef\n",
    "import pandas as pd\n",
    "import numpy as np\n"
   ]
  },
  {
   "cell_type": "code",
   "execution_count": 13,
   "metadata": {},
   "outputs": [
    {
     "name": "stdout",
     "output_type": "stream",
     "text": [
      "[' sepal length ', ' sepal w', ' petal length ', ' petal w', ' class']\n"
     ]
    }
   ],
   "source": [
    "#acquiring the column names\n",
    "columns = []\n",
    "flag = False\n",
    "ctr = 0\n",
    "file_name = 'Iris_names.txt'\n",
    "with open(file_name,'r') as f:\n",
    "    file_stuff = f.readlines()\n",
    "    for i in file_stuff:\n",
    "        if flag and ctr != 5:\n",
    "            str = \"\"\n",
    "            ctr += 1\n",
    "            p = False\n",
    "            for j in i:\n",
    "                if j == '.':\n",
    "                    p = True\n",
    "                    continue\n",
    "                if j == 'i' or j ==':':\n",
    "                    break\n",
    "                if p:\n",
    "                    str += j\n",
    "            columns.append(str)\n",
    "        if i[0] == '7':\n",
    "            flag = True\n",
    "# adding a last column of dependent variable:\n",
    "#columns.append('income')\n",
    "print(columns)"
   ]
  },
  {
   "cell_type": "code",
   "execution_count": 14,
   "metadata": {},
   "outputs": [
    {
     "name": "stdout",
     "output_type": "stream",
     "text": [
      "C4.5  tree is going to be built...\n",
      "Accuracy:  70.0 % on  150  instances\n",
      "finished in  0.8762032985687256  seconds\n"
     ]
    }
   ],
   "source": [
    "columns[-1] = 'Decision'\n",
    "df = pd.read_csv('Iris.csv', names = columns)\n",
    "#df = pd.DataFrame(df.data, columns=df.feature_names)\n",
    "config = {'algorithm': 'C4.5'}\n",
    "model = chef.fit(df, config)"
   ]
  },
  {
   "cell_type": "code",
   "execution_count": 17,
   "metadata": {},
   "outputs": [],
   "source": [
    "# looking at some prediction made by the tree:\n",
    "test_instance = [3, 1.6, 2, 1.5]"
   ]
  },
  {
   "cell_type": "code",
   "execution_count": 18,
   "metadata": {},
   "outputs": [
    {
     "name": "stdout",
     "output_type": "stream",
     "text": [
      "Iris-versicolor\n"
     ]
    }
   ],
   "source": [
    "prediction = chef.predict(model, test_instance)\n",
    "print(prediction)"
   ]
  },
  {
   "cell_type": "markdown",
   "metadata": {},
   "source": [
    "hence it works well !!"
   ]
  },
  {
   "cell_type": "markdown",
   "metadata": {},
   "source": [
    "the above dataset was quite small so we didn't get a desired result let's try with a bigger data set like breast cancer"
   ]
  },
  {
   "cell_type": "markdown",
   "metadata": {},
   "source": [
    "#### Breast Cancer:"
   ]
  },
  {
   "cell_type": "code",
   "execution_count": 4,
   "metadata": {},
   "outputs": [],
   "source": [
    "from sklearn.datasets import load_breast_cancer\n",
    "\n",
    "d = load_breast_cancer()\n",
    "df_ = pd.DataFrame(d.data, columns=d.feature_names)\n",
    "y = d.target\n",
    "y = [\"NO\" if i == 0 else \"YES\" for i in y ]\n",
    "df_['Decision'] = y"
   ]
  },
  {
   "cell_type": "code",
   "execution_count": 5,
   "metadata": {},
   "outputs": [
    {
     "name": "stdout",
     "output_type": "stream",
     "text": [
      "C4.5  tree is going to be built...\n",
      "Accuracy:  98.94551845342707 % on  569  instances\n",
      "finished in  92.27848076820374  seconds\n"
     ]
    }
   ],
   "source": [
    "config = {'algorithm': 'C4.5'}\n",
    "model_ = chef.fit(df_, config)"
   ]
  },
  {
   "cell_type": "markdown",
   "metadata": {},
   "source": [
    "Hence C4.5 requires more data to perform well ...let's prove this by trying on adult data set as well :\n",
    "#### Adult dataset:"
   ]
  },
  {
   "cell_type": "code",
   "execution_count": 19,
   "metadata": {},
   "outputs": [
    {
     "name": "stdout",
     "output_type": "stream",
     "text": [
      "['age', 'workclass', 'fnlwgt', 'education', 'education-num', 'marital-status', 'occupation', 'relationship', 'race', 'sex', 'capital-gain', 'capital-loss', 'hours-per-week', 'native-country', 'income']\n"
     ]
    }
   ],
   "source": [
    "#acquiring the column names\n",
    "columns = []\n",
    "file_name = 'adult_names.txt'\n",
    "with open(file_name,'r') as f:\n",
    "    file_stuff = f.readlines()\n",
    "    for i in file_stuff:\n",
    "        if ord(i[0]) >= ord('a') and ord(i[0]) <= ord('z'):\n",
    "            str = \"\"\n",
    "            j = 0\n",
    "            while i[j] != ':':\n",
    "                str += i[j]\n",
    "                j+=1\n",
    "            columns.append(str)\n",
    "# adding a last column of dependent variable:\n",
    "columns.append('income')\n",
    "print(columns)"
   ]
  },
  {
   "cell_type": "markdown",
   "metadata": {},
   "source": [
    "But adult dataset is about 32k size so it would require a lot of time so let's try it on 1.7k size data(for fast working) :"
   ]
  },
  {
   "cell_type": "code",
   "execution_count": 29,
   "metadata": {},
   "outputs": [],
   "source": [
    "columns[-1] = 'Decision'\n",
    "df = pd.read_csv('adult_train.csv',names = columns)\n",
    "df.head(10)\n",
    "x = df[:1700]\n",
    "y = df.iloc[0].to_numpy()"
   ]
  },
  {
   "cell_type": "code",
   "execution_count": 30,
   "metadata": {},
   "outputs": [
    {
     "name": "stdout",
     "output_type": "stream",
     "text": [
      "C4.5  tree is going to be built...\n",
      "Accuracy:  92.05882352941177 % on  1700  instances\n",
      "finished in  22.836021184921265  seconds\n"
     ]
    }
   ],
   "source": [
    "config = {'algorithm': 'C4.5'}\n",
    "model_ = chef.fit(x, config)"
   ]
  },
  {
   "cell_type": "code",
   "execution_count": 31,
   "metadata": {},
   "outputs": [
    {
     "name": "stdout",
     "output_type": "stream",
     "text": [
      " <=50K\n"
     ]
    }
   ],
   "source": [
    "prediction = chef.predict(model,y)\n",
    "print(prediction)"
   ]
  },
  {
   "cell_type": "code",
   "execution_count": null,
   "metadata": {},
   "outputs": [],
   "source": []
  }
 ],
 "metadata": {
  "kernelspec": {
   "display_name": "Python 3",
   "language": "python",
   "name": "python3"
  },
  "language_info": {
   "codemirror_mode": {
    "name": "ipython",
    "version": 3
   },
   "file_extension": ".py",
   "mimetype": "text/x-python",
   "name": "python",
   "nbconvert_exporter": "python",
   "pygments_lexer": "ipython3",
   "version": "3.8.3"
  }
 },
 "nbformat": 4,
 "nbformat_minor": 4
}
