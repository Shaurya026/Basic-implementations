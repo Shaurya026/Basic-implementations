{
 "cells": [
  {
   "cell_type": "code",
   "execution_count": 1,
   "metadata": {},
   "outputs": [],
   "source": [
    "import numpy as np \n",
    "import pandas as pd "
   ]
  },
  {
   "cell_type": "code",
   "execution_count": 2,
   "metadata": {},
   "outputs": [
    {
     "data": {
      "text/plain": [
       "Text(0, 0.5, 'x2')"
      ]
     },
     "execution_count": 2,
     "metadata": {},
     "output_type": "execute_result"
    },
    {
     "data": {
      "image/png": "[encoded data removed]",
      "text/plain": [
       "<Figure size 432x288 with 1 Axes>"
      ]
     },
     "metadata": {
      "needs_background": "light"
     },
     "output_type": "display_data"
    }
   ],
   "source": [
    "df = pd.read_csv('ex2data2.csv')\n",
    "pos = np.array(df[df['y'] == 1])\n",
    "neg = np.array(df[df['y'] == 0])\n",
    "\n",
    "import matplotlib.pyplot as plt\n",
    "plt.plot(pos[:,0],pos[:,1],'bo')\n",
    "plt.plot(neg[:,0],neg[:,1],'gx')\n",
    "plt.xlabel('x1')\n",
    "plt.ylabel('x2')"
   ]
  },
  {
   "cell_type": "markdown",
   "metadata": {},
   "source": [
    "## Using higher order features for classification like: ${x_1}$, ${x_2}$, ${x_1}^2$, ${x_2}^2$, ${x_1 x_2}$, ${x_1}^3$, ${x_2}^3$, ${x_1 {x_2}^2}$, ${x_1}^2{x_2}$ ...., ${x_2}^6$"
   ]
  },
  {
   "cell_type": "code",
   "execution_count": 3,
   "metadata": {},
   "outputs": [
    {
     "name": "stdout",
     "output_type": "stream",
     "text": [
      "0.18610025862068963 1.0\n",
      "0.44193195456956325 0.0\n"
     ]
    }
   ],
   "source": [
    "# data is already close to normalized as :\n",
    "print(np.mean(pos[:,1]),np.mean(pos[:,2]))\n",
    "print(np.std(pos[:,1]),np.std(pos[:,2]))"
   ]
  },
  {
   "cell_type": "code",
   "execution_count": 7,
   "metadata": {},
   "outputs": [
    {
     "name": "stdout",
     "output_type": "stream",
     "text": [
      "[1.00000000e+00 5.12670000e-02 6.99560000e-01 2.62830529e-03\n",
      " 3.58643425e-02 4.89384194e-01 1.34745327e-04 1.83865725e-03\n",
      " 2.50892595e-02 3.42353606e-01 6.90798869e-06 9.42624411e-05\n",
      " 1.28625106e-03 1.75514423e-02 2.39496889e-01 3.54151856e-07\n",
      " 4.83255257e-06 6.59422333e-05 8.99809795e-04 1.22782870e-02\n",
      " 1.67542444e-01 1.81563032e-08 2.47750473e-07 3.38066048e-06\n",
      " 4.61305487e-05 6.29470940e-04 8.58939846e-03 1.17205992e-01]\n"
     ]
    }
   ],
   "source": [
    "def mapFeature(x1,x2,degree):\n",
    "    \"\"\"\n",
    "    take in numpy array of x1 and x2, return all polynomial terms up\n",
    "    to the given degree\n",
    "    \"\"\"\n",
    "    out = np.ones(len(x1)).reshape(len(x1),1) # makes a column vector of inputs where 1st element is for bias \n",
    "    for i in range(1,degree+1):\n",
    "        for j in range(i+1):\n",
    "            terms= (x1**(i-j) * x2**j).reshape(len(x1),1) # without reshape they are in (n,) form \n",
    "            out= np.hstack((out,terms)) # to add elements adjacent to the vector\n",
    "            #print(terms)\n",
    "    return out\n",
    "\n",
    "X = (np.array(df))\n",
    "X = mapFeature(X[:,0], X[:,1],6)\n",
    "print(X[0]) # contains x0 x1 x2 x3 ...  # for the first training example \n",
    "Y = np.array(df['y'])\n",
    "Y = Y.reshape(len(Y),1)"
   ]
  },
  {
   "cell_type": "markdown",
   "metadata": {},
   "source": [
    "#### NOTE : In the above code we have given the data to be from x0 which is 1 for bias term to be included in the data .  We could have avoided that so we will implement for both to show that it doesn't effect the data : "
   ]
  },
  {
   "cell_type": "code",
   "execution_count": 8,
   "metadata": {},
   "outputs": [],
   "source": [
    "def sigmoid(z):\n",
    "    return 1/(1+np.exp(-z))"
   ]
  },
  {
   "cell_type": "code",
   "execution_count": 9,
   "metadata": {},
   "outputs": [],
   "source": [
    "def LOGISTIC(X,Y,num_iter = 1000 , lr = 3):\n",
    "    # No need to normalize as told \n",
    "    w = np.zeros((len(X[0]),1)) # since data is already in similar range we don' need to normalize \n",
    "    m = Y.shape[0]\n",
    "    dj = []\n",
    "    for i in range(num_iter+1):\n",
    "        z = np.dot(X,w)\n",
    "        h = sigmoid(z)\n",
    "        cost = (-1/m)*np.sum(Y*np.log(h) + (1-Y)*np.log(1-h))\n",
    "        dj.append(cost)\n",
    "        dz = h - Y\n",
    "        dw = (1/m)*np.dot(X.T,dz)\n",
    "        w = w - lr*dw\n",
    "        if i % 100 == 0:\n",
    "            print('cost after',i,'iterations :',cost)\n",
    "    return w,dj"
   ]
  },
  {
   "cell_type": "code",
   "execution_count": 10,
   "metadata": {},
   "outputs": [
    {
     "name": "stdout",
     "output_type": "stream",
     "text": [
      "cost after 0 iterations : 0.6931471805599454\n",
      "cost after 100 iterations : 0.3766415566991353\n",
      "cost after 200 iterations : 0.35127823003664604\n",
      "cost after 300 iterations : 0.34226250644998124\n",
      "cost after 400 iterations : 0.33744492113271085\n",
      "cost after 500 iterations : 0.3342596897854356\n",
      "cost after 600 iterations : 0.3318861356984117\n",
      "cost after 700 iterations : 0.3299907805913757\n",
      "cost after 800 iterations : 0.32841272071622046\n",
      "cost after 900 iterations : 0.3270630712410403\n",
      "cost after 1000 iterations : 0.32588714460553275\n"
     ]
    }
   ],
   "source": [
    "w,cost = LOGISTIC(X,Y)"
   ]
  },
  {
   "cell_type": "code",
   "execution_count": 11,
   "metadata": {},
   "outputs": [
    {
     "name": "stdout",
     "output_type": "stream",
     "text": [
      "[[ 3.86758636]\n",
      " [ 2.57698662]\n",
      " [ 4.41725624]\n",
      " [-5.38044654]\n",
      " [-5.72265629]\n",
      " [-6.91354433]\n",
      " [ 1.48276595]\n",
      " [-1.48567403]\n",
      " [ 0.27283297]\n",
      " [-1.20373228]\n",
      " [-4.83297079]\n",
      " [ 1.71687129]\n",
      " [-3.01325044]\n",
      " [-2.35973782]\n",
      " [-4.16377458]\n",
      " [-1.13615393]\n",
      " [-0.56053895]\n",
      " [ 1.97963743]\n",
      " [-2.35547375]\n",
      " [-2.34858126]\n",
      " [ 0.92972289]\n",
      " [-4.49503129]\n",
      " [ 1.07639312]\n",
      " [-1.14637851]\n",
      " [ 1.11914442]\n",
      " [-2.27226224]\n",
      " [-2.26018069]\n",
      " [-0.5182215 ]]\n"
     ]
    },
    {
     "data": {
      "image/png": "[encoded data removed]",
      "text/plain": [
       "<Figure size 432x288 with 1 Axes>"
      ]
     },
     "metadata": {
      "needs_background": "light"
     },
     "output_type": "display_data"
    }
   ],
   "source": [
    "plt.plot(range(len(cost)),cost)\n",
    "plt.xlabel('number of iterations')\n",
    "plt.ylabel('Cost')\n",
    "print(w)# first value of w will be the bias value for us "
   ]
  },
  {
   "cell_type": "code",
   "execution_count": 17,
   "metadata": {},
   "outputs": [
    {
     "data": {
      "text/plain": [
       "<matplotlib.legend.Legend at 0x1d82420a088>"
      ]
     },
     "execution_count": 17,
     "metadata": {},
     "output_type": "execute_result"
    },
    {
     "data": {
      "image/png": "[encoded data removed]",
      "text/plain": [
       "<Figure size 432x288 with 1 Axes>"
      ]
     },
     "metadata": {
      "needs_background": "light"
     },
     "output_type": "display_data"
    }
   ],
   "source": [
    "# plotting the decision boundary for the above result : \n",
    "plt.scatter(pos[:,0],pos[:,1],c=\"r\",marker=\"+\",label=\"Admitted\")\n",
    "plt.scatter(neg[:,0],neg[:,1],c=\"b\",marker=\"x\",label=\"Notadmitted\")\n",
    "\n",
    "\n",
    "def mapFeaturePlot(x1,x2,degree):\n",
    "    out = np.ones(1)\n",
    "    for i in range(1,degree+1):\n",
    "        for j in range(i+1):\n",
    "            terms= (x1**(i-j) * x2**j)\n",
    "            out= np.hstack((out,terms)) # forms an input feature for one example\n",
    "    return out\n",
    "\n",
    "u_vals = np.linspace(-1,1.5,50)\n",
    "v_vals= np.linspace(-1,1.5,50)\n",
    "z=np.zeros((len(u_vals),len(v_vals)))\n",
    "# forming all the values for contour fitting:\n",
    "for i in range(len(u_vals)):\n",
    "    for j in range(len(v_vals)):\n",
    "        z[i,j] = np.dot(mapFeaturePlot(u_vals[i],v_vals[j],6) , w)\n",
    "\n",
    "        \n",
    "plt.contour(u_vals,v_vals,z.T,0)\n",
    "plt.xlabel(\"Exam 1 score\")\n",
    "plt.ylabel(\"Exam 2 score\")\n",
    "plt.legend(loc=0)"
   ]
  },
  {
   "cell_type": "markdown",
   "metadata": {},
   "source": [
    "### Implementing the same thing with a little different vectorization to get more clarity on vector part"
   ]
  },
  {
   "cell_type": "code",
   "execution_count": 33,
   "metadata": {},
   "outputs": [
    {
     "name": "stdout",
     "output_type": "stream",
     "text": [
      "[ 0.69956   0.68494   0.69225   0.50219   0.46564   0.2098    0.034357\n",
      " -0.19225  -0.40424  -0.51389  -0.56506  -0.5212   -0.24342  -0.18494\n",
      "  0.48757   0.5826    0.53874   0.81652   0.69956   0.63377   0.59722\n",
      "  0.33406   0.005117 -0.27266  -0.39693  -0.60161  -0.53582  -0.53582\n",
      "  0.54605   0.77997   0.96272   0.8019    0.64839   0.47295   0.31213\n",
      "  0.027047 -0.21418  -0.18494  -0.16301  -0.41155  -0.2288   -0.18494\n",
      " -0.14108   0.012427  0.15863   0.26827   0.44371   0.52412   0.67032\n",
      "  0.69225   0.57529   0.39985   0.55336   0.35599   0.17325   0.21711\n",
      " -0.016813 -0.27266   0.93348   0.77997   0.61915   0.75804   0.7288\n",
      "  0.59722   0.50219   0.3633    0.27558   0.085526  0.012427 -0.082602\n",
      " -0.20687  -0.36769  -0.5212   -0.55775  -0.7405   -0.5943   -0.41886\n",
      " -0.57968  -0.76974  -0.75512  -0.57968  -0.4481   -0.41155  -0.25804\n",
      " -0.25804   0.041667  0.2902    0.68494   0.70687   0.91886   0.90424\n",
      "  0.70687   0.77997   0.91886   0.99196   1.1089    1.087     0.82383\n",
      "  0.88962   0.66301   0.64108   0.10015  -0.57968  -0.63816  -0.36769\n",
      " -0.3019   -0.13377  -0.060673 -0.067982 -0.21418  -0.41886  -0.082602\n",
      "  0.31213   0.53874   0.49488   0.99927   0.99927  -0.030612]\n"
     ]
    }
   ],
   "source": [
    "# implementing the same without using 1 as x0 in input vector \n",
    "def mapFeature(x1,x2,degree):\n",
    "    \"\"\"\n",
    "    take in numpy array of x1 and x2, return all polynomial terms up\n",
    "    to the given degree\n",
    "    \"\"\"\n",
    "    out = 0\n",
    "    for i in range(1,degree+1):\n",
    "        for j in range(i+1):\n",
    "            terms = (x1**(i-j) * x2**j).reshape(1,len(x1)) # without reshape they are in (n,) form \n",
    "            if type(out) == int :\n",
    "                out = terms\n",
    "                continue\n",
    "            out = np.vstack((out,terms)) # to add elements adjacent to the vector\n",
    "            #print(terms)\n",
    "    return out\n",
    "\n",
    "X = (np.array(df))\n",
    "X = mapFeature(X[:,0], X[:,1],6)\n",
    "print(X[1]) # contains x0 x1 x2 x3 ...  # for the first training example \n",
    "Y = np.array(df['y']).reshape(1,len(Y))"
   ]
  },
  {
   "cell_type": "code",
   "execution_count": 34,
   "metadata": {},
   "outputs": [],
   "source": [
    "def LOGISTIC(X,Y,num_iter = 1000 , lr = 3):\n",
    "    # No need to normalize as told \n",
    "    w = np.zeros((X.shape[0],1)) # since data is already in similar range we don' need to normalize \n",
    "    b = 0\n",
    "    m = Y.shape[1]\n",
    "    dj = []\n",
    "    for i in range(num_iter+1):\n",
    "        z = np.dot(w.T,X) + b\n",
    "        h = sigmoid(z)\n",
    "        cost = (-1/m)*np.sum(Y*np.log(h) + (1-Y)*np.log(1-h))\n",
    "        dj.append(cost)\n",
    "        dz = h - Y\n",
    "        dw = (1/m)*np.dot(X,dz.T)\n",
    "        w = w - lr*dw\n",
    "        b = b - lr*((1/m)*np.sum(dz))\n",
    "        if i % 100 == 0:\n",
    "            print('cost after',i,'iterations :',cost)\n",
    "    return w,b,dj"
   ]
  },
  {
   "cell_type": "code",
   "execution_count": 35,
   "metadata": {},
   "outputs": [
    {
     "name": "stdout",
     "output_type": "stream",
     "text": [
      "cost after 0 iterations : 0.6931471805599454\n",
      "cost after 100 iterations : 0.3766415566991351\n",
      "cost after 200 iterations : 0.3512782300366461\n",
      "cost after 300 iterations : 0.3422625064499813\n",
      "cost after 400 iterations : 0.3374449211327109\n",
      "cost after 500 iterations : 0.3342596897854356\n",
      "cost after 600 iterations : 0.33188613569841163\n",
      "cost after 700 iterations : 0.3299907805913757\n",
      "cost after 800 iterations : 0.32841272071622046\n",
      "cost after 900 iterations : 0.3270630712410402\n",
      "cost after 1000 iterations : 0.32588714460553275\n"
     ]
    }
   ],
   "source": [
    "w,b,cost = LOGISTIC(X,Y)"
   ]
  },
  {
   "cell_type": "code",
   "execution_count": 36,
   "metadata": {},
   "outputs": [
    {
     "data": {
      "text/plain": [
       "Text(0, 0.5, 'Cost')"
      ]
     },
     "execution_count": 36,
     "metadata": {},
     "output_type": "execute_result"
    },
    {
     "data": {
      "image/png": "[encoded data removed]",
      "text/plain": [
       "<Figure size 432x288 with 1 Axes>"
      ]
     },
     "metadata": {
      "needs_background": "light"
     },
     "output_type": "display_data"
    }
   ],
   "source": [
    "plt.plot(range(len(cost)),cost)\n",
    "plt.xlabel('number of iterations')\n",
    "plt.ylabel('Cost')\n",
    "# print(b)\n",
    "# print(w)\n",
    "# we see that same values are predicted !!"
   ]
  },
  {
   "cell_type": "code",
   "execution_count": 46,
   "metadata": {},
   "outputs": [
    {
     "name": "stderr",
     "output_type": "stream",
     "text": [
      "No handles with labels found to put in legend.\n"
     ]
    },
    {
     "data": {
      "text/plain": [
       "<matplotlib.legend.Legend at 0x1d826179ec8>"
      ]
     },
     "execution_count": 46,
     "metadata": {},
     "output_type": "execute_result"
    },
    {
     "data": {
      "image/png": "[encoded data removed]",
      "text/plain": [
       "<Figure size 432x288 with 1 Axes>"
      ]
     },
     "metadata": {
      "needs_background": "light"
     },
     "output_type": "display_data"
    }
   ],
   "source": [
    "# plotting decision boundary for the above :\n",
    "plt.plot(pos[:,0],pos[:,1],'bo')\n",
    "plt.plot(neg[:,0],neg[:,1],'gx')\n",
    "plt.xlabel('x1')\n",
    "plt.ylabel('x2')\n",
    "\n",
    "def plotdata(x1,x2,degree):\n",
    "    out = 0\n",
    "    k = 0\n",
    "    for i in range(1,degree+1):\n",
    "        for j in range(i+1):\n",
    "            term = x1**(i-j) * x2**(j)\n",
    "            if k == 0:\n",
    "                out = term\n",
    "                k = 1\n",
    "                continue\n",
    "            out = np.vstack((out,term))\n",
    "    return out\n",
    "\n",
    "u_vals = np.linspace(-1,1.5,100)\n",
    "v_vals= np.linspace(-1,1.5,100)\n",
    "z=np.zeros((len(u_vals),len(v_vals)))\n",
    "# forming all the values for contour fitting:\n",
    "for i in range(len(u_vals)):\n",
    "    for j in range(len(v_vals)):\n",
    "        z[i,j] = np.dot(plotdata(u_vals[i],v_vals[j],6).T,w) + b\n",
    "\n",
    "        \n",
    "plt.contour(u_vals,v_vals,z.T,0)\n",
    "plt.xlabel(\"Exam 1 score\")\n",
    "plt.ylabel(\"Exam 2 score\")"
   ]
  },
  {
   "cell_type": "markdown",
   "metadata": {},
   "source": [
    "## hence verified for above that giving more features help in deduction\n",
    "## Now using some regularization and seeing the effect on decision boundary"
   ]
  },
  {
   "cell_type": "code",
   "execution_count": 59,
   "metadata": {},
   "outputs": [
    {
     "name": "stdout",
     "output_type": "stream",
     "text": [
      "cost after 0 iterations : 0.6931471805599454\n",
      "cost after 100 iterations : 0.5343000597830535\n",
      "cost after 200 iterations : 0.5293583795060491\n",
      "cost after 300 iterations : 0.5290341830434108\n",
      "cost after 400 iterations : 0.5290061763582775\n",
      "cost after 500 iterations : 0.5290031715752622\n",
      "cost after 600 iterations : 0.5290027924545535\n",
      "cost after 700 iterations : 0.5290027391950415\n",
      "cost after 800 iterations : 0.5290027312008033\n",
      "cost after 900 iterations : 0.5290027299517415\n",
      "cost after 1000 iterations : 0.5290027297516592\n"
     ]
    },
    {
     "data": {
      "text/plain": [
       "<matplotlib.contour.QuadContourSet at 0x1d8274204c8>"
      ]
     },
     "execution_count": 59,
     "metadata": {},
     "output_type": "execute_result"
    },
    {
     "data": {
      "image/png": "[encoded data removed]",
      "text/plain": [
       "<Figure size 432x288 with 1 Axes>"
      ]
     },
     "metadata": {
      "needs_background": "light"
     },
     "output_type": "display_data"
    }
   ],
   "source": [
    "X = (np.array(df))\n",
    "X = mapFeature(X[:,0], X[:,1],6)\n",
    "#print(X[1]) # contains x0 x1 x2 x3 ...  # for the first training example \n",
    "#Y = np.array(df['y']).reshape(1,len(Y))\n",
    "\n",
    "def LOGISTIC(X,Y,num_iter = 1000 , lr = 1,lamda = 1):\n",
    "    # No need to normalize as told \n",
    "    w = np.zeros((X.shape[0],1)) # since data is already in similar range we don't need to normalize \n",
    "    b = 0\n",
    "    m = Y.shape[1]\n",
    "    dj = []\n",
    "    for i in range(num_iter+1):\n",
    "        z = np.dot(w.T,X) + b\n",
    "        h = sigmoid(z)\n",
    "        cost = (-1/m)*np.sum(Y*np.log(h) + (1-Y)*np.log(1-h)) + (lamda/(2*m))*np.sum(w**2)\n",
    "        dj.append(cost)\n",
    "        dz = h - Y\n",
    "        dw = (1/m)*np.dot(X,dz.T) + (lamda/m)*(w)\n",
    "        w = w - lr*dw\n",
    "        b = b - lr*((1/m)*np.sum(dz))\n",
    "        if i % 100 == 0:\n",
    "            print('cost after',i,'iterations :',cost)\n",
    "    return w,b,dj\n",
    "\n",
    "w,b,cost = LOGISTIC(X,Y)\n",
    "# plt.plot(range(len(cost)),cost)\n",
    "# plt.xlabel('number of iterations')\n",
    "# plt.ylabel('Cost')\n",
    "# print(b)\n",
    "# print(w)\n",
    "# we see that same values are predicted !!\n",
    "\n",
    "# plotting decision boundary for the above :\n",
    "plt.plot(pos[:,0],pos[:,1],'bo')\n",
    "plt.plot(neg[:,0],neg[:,1],'gx')\n",
    "plt.xlabel('x1')\n",
    "plt.ylabel('x2')\n",
    "\n",
    "def plotdata(x1,x2,degree):\n",
    "    out = 0\n",
    "    k = 0\n",
    "    for i in range(1,degree+1):\n",
    "        for j in range(i+1):\n",
    "            term = x1**(i-j) * x2**(j)\n",
    "            if k == 0:\n",
    "                out = term\n",
    "                k = 1\n",
    "                continue\n",
    "            out = np.vstack((out,term))\n",
    "    return out\n",
    "\n",
    "u_vals = np.linspace(-1,1.5,100)\n",
    "v_vals= np.linspace(-1,1.5,100)\n",
    "z=np.zeros((len(u_vals),len(v_vals)))\n",
    "# forming all the values for contour fitting:\n",
    "for i in range(len(u_vals)):\n",
    "    for j in range(len(v_vals)):\n",
    "        z[i,j] = np.dot(plotdata(u_vals[i],v_vals[j],6).T,w) + b\n",
    "\n",
    "        \n",
    "plt.contour(u_vals,v_vals,z.T,0)"
   ]
  },
  {
   "cell_type": "code",
   "execution_count": 60,
   "metadata": {},
   "outputs": [
    {
     "data": {
      "text/plain": [
       "Text(0, 0.5, 'Cost')"
      ]
     },
     "execution_count": 60,
     "metadata": {},
     "output_type": "execute_result"
    },
    {
     "data": {
      "image/png": "[encoded data removed]",
      "text/plain": [
       "<Figure size 432x288 with 1 Axes>"
      ]
     },
     "metadata": {
      "needs_background": "light"
     },
     "output_type": "display_data"
    }
   ],
   "source": [
    "plt.plot(range(len(cost)),cost)\n",
    "plt.xlabel('number of iterations')\n",
    "plt.ylabel('Cost')"
   ]
  },
  {
   "cell_type": "code",
   "execution_count": null,
   "metadata": {},
   "outputs": [],
   "source": []
  }
 ],
 "metadata": {
  "kernelspec": {
   "display_name": "Python 3",
   "language": "python",
   "name": "python3"
  },
  "language_info": {
   "codemirror_mode": {
    "name": "ipython",
    "version": 3
   },
   "file_extension": ".py",
   "mimetype": "text/x-python",
   "name": "python",
   "nbconvert_exporter": "python",
   "pygments_lexer": "ipython3",
   "version": "3.7.6"
  }
 },
 "nbformat": 4,
 "nbformat_minor": 4
}
