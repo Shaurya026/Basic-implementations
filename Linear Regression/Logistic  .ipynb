{
 "cells": [
  {
   "cell_type": "code",
   "execution_count": 1,
   "metadata": {},
   "outputs": [],
   "source": [
    "import numpy as np \n",
    "import pandas as pd\n",
    "import matplotlib.pyplot as plt"
   ]
  },
  {
   "cell_type": "code",
   "execution_count": 2,
   "metadata": {},
   "outputs": [],
   "source": [
    "def sigmoid(z):\n",
    "    ans = 1/(1 + np.exp(-z))\n",
    "    return ans "
   ]
  },
  {
   "cell_type": "code",
   "execution_count": 3,
   "metadata": {},
   "outputs": [],
   "source": [
    "df = pd.read_csv('exam selection.csv')"
   ]
  },
  {
   "cell_type": "code",
   "execution_count": 4,
   "metadata": {},
   "outputs": [
    {
     "data": {
      "text/plain": [
       "Text(0.5, 1.0, 'Exam marks and data')"
      ]
     },
     "execution_count": 4,
     "metadata": {},
     "output_type": "execute_result"
    },
    {
     "data": {
      "image/png": "[encoded data removed]",
      "text/plain": [
       "<Figure size 432x288 with 1 Axes>"
      ]
     },
     "metadata": {
      "needs_background": "light"
     },
     "output_type": "display_data"
    }
   ],
   "source": [
    "positive_data = df[df['selection'] == 1]\n",
    "negative_data = df[df['selection'] == 0]\n",
    "plt.plot(positive_data.iloc[:,0],positive_data.iloc[:,1],'r+')\n",
    "plt.plot(negative_data.iloc[:,0],negative_data.iloc[:,1],'bx')\n",
    "plt.xlabel('exam-1')\n",
    "plt.ylabel('exam-2')\n",
    "#plt.legend('selected','not selected')\n",
    "plt.title('Exam marks and data')"
   ]
  },
  {
   "cell_type": "code",
   "execution_count": 5,
   "metadata": {},
   "outputs": [
    {
     "name": "stdout",
     "output_type": "stream",
     "text": [
      "(1, 100)\n"
     ]
    }
   ],
   "source": [
    "# Making input values : \n",
    "x1 = df['exam-1']\n",
    "x2 = df['exam-2']\n",
    "X = np.array([x1,x2])\n",
    "# Making ouput : \n",
    "Y = np.array([df['selection']])\n",
    "print(Y.shape)"
   ]
  },
  {
   "cell_type": "code",
   "execution_count": 57,
   "metadata": {},
   "outputs": [],
   "source": [
    "def Logistics(X,Y,iterations = 10000,learning_rate = 0.0011):\n",
    "    # intializing weights and bias : \n",
    "    w = np.zeros((2,1))\n",
    "    b = 0\n",
    "    m = Y.shape[1] # number of examples\n",
    "    for i in range(1,iterations + 1)  :\n",
    "        z = np.dot(w.T,X) + b\n",
    "        h = sigmoid(z)\n",
    "        cost = (-1/m) * np.sum(Y*np.log(h) + (1-Y)*np.log(1-h))\n",
    "        dz = h - Y\n",
    "        dw = (1/m)*np.dot(X,dz.T)\n",
    "        db = (1/m)*np.sum(dz)\n",
    "        w = w - learning_rate*dw\n",
    "        b = b - learning_rate*db\n",
    "        \n",
    "        if i % 1000 == 0:\n",
    "            print('Cost after',i,'iterations :',cost)\n",
    "    return w,b"
   ]
  },
  {
   "cell_type": "code",
   "execution_count": 58,
   "metadata": {},
   "outputs": [
    {
     "name": "stdout",
     "output_type": "stream",
     "text": [
      "Cost after 1000 iterations : 0.6893719801752984\n",
      "Cost after 2000 iterations : 0.682057774636633\n",
      "Cost after 3000 iterations : 0.6747748266355481\n",
      "Cost after 4000 iterations : 0.667524449660979\n",
      "Cost after 5000 iterations : 0.6603079901543056\n",
      "Cost after 6000 iterations : 0.6531268298360436\n",
      "Cost after 7000 iterations : 0.6459823885020429\n",
      "Cost after 8000 iterations : 0.6388761274224087\n",
      "Cost after 9000 iterations : 0.631809553517849\n",
      "Cost after 10000 iterations : 0.6247842245463288\n"
     ]
    }
   ],
   "source": [
    "w,b = Logistics(X,Y)"
   ]
  },
  {
   "cell_type": "code",
   "execution_count": 61,
   "metadata": {},
   "outputs": [
    {
     "name": "stdout",
     "output_type": "stream",
     "text": [
      "[30.05882245 99.8278578 ]\n"
     ]
    },
    {
     "data": {
      "image/png": "[encoded data removed]",
      "text/plain": [
       "<Figure size 432x288 with 1 Axes>"
      ]
     },
     "metadata": {
      "needs_background": "light"
     },
     "output_type": "display_data"
    }
   ],
   "source": [
    "## plotting decision boundaries : \n",
    "\n",
    "def decision_boundary(df,X,Y,w,b):\n",
    "    plt.figure()\n",
    "    positive_data = df[df['selection'] == 1]\n",
    "    negative_data = df[df['selection'] == 0]\n",
    "    plt.plot(positive_data.iloc[:,0],positive_data.iloc[:,1],'r+')\n",
    "    plt.plot(negative_data.iloc[:,0],negative_data.iloc[:,1],'bx')\n",
    "    plt.xlabel('exam-1')\n",
    "    plt.ylabel('exam-2')\n",
    "    plt.title('Exam marks and data')\n",
    "    \n",
    "    # decisison boundary is plotted by computing z = 0 :\n",
    "    \n",
    "    # if number of parameters are only 2 :\n",
    "    # then we can plot a straight line directly as :    \n",
    "    if X.shape[0] <= 2 : \n",
    "        x = np.array([np.min(X[0]),np.max(X[0])])\n",
    "        y = (-1/0.2)*(-25 + 0.2*x)\n",
    "        print(x)\n",
    "        plt.plot(x,y,'-o')\n",
    "    plt.show()\n",
    "\n",
    "decision_boundary(df,X,Y,w,b)"
   ]
  },
  {
   "cell_type": "markdown",
   "metadata": {},
   "source": [
    "## function plotDecisionBoundary(theta, X, y)\n",
    "#### PLOTDECISIONBOUNDARY Plots the data points X and y into a new figure with\n",
    "#### the decision boundary defined by theta\n",
    "####    PLOTDECISIONBOUNDARY(theta, X,y) plots the data points with + for the \n",
    "####    positive examples and o for the negative examples. X is assumed to be a either \n",
    "####   1) Mx3 matrix, where the first column is an all-ones column for the \n",
    "####      intercept.\n",
    "####    2) MxN, N>3 matrix, where the first column is all-ones\n",
    "\n",
    "###  Plot Data\n",
    "plotData(X(:,2:3), y);\n",
    "hold on\n",
    "\n",
    "\n",
    "### if number of parameters are less than 3 because 1st column is all ones for MATLAB\n",
    "if size(X, 2) <= 3\n",
    "    # Only need 2 points to define a line, so choose two endpoints\n",
    "    plot_x = [min(X(:,2))-2,  max(X(:,2))+2];\n",
    "\n",
    "    # Calculate the decision boundary line\n",
    "    plot_y = (-1./theta(3)).*(theta(2).*plot_x + theta(1));\n",
    "\n",
    "    # Plot, and adjust axes for better viewing\n",
    "    plot(plot_x, plot_y)\n",
    "    \n",
    "    # Legend, specific for the exercise\n",
    "    legend('Admitted', 'Not admitted', 'Decision Boundary')\n",
    "    axis([30, 100, 30, 100])\n",
    "    \n",
    "### if number of parameter are more than 3 \n",
    "else\n",
    "    # Here is the grid range\n",
    "    u = linspace(-1, 1.5, 50);\n",
    "    v = linspace(-1, 1.5, 50);\n",
    "\n",
    "    z = zeros(length(u), length(v));\n",
    "    # Evaluate z = theta*x over the grid\n",
    "    for i = 1:length(u)\n",
    "        for j = 1:length(v)\n",
    "            z(i,j) = mapFeature(u(i), v(j))*theta;\n",
    "        end\n",
    "    end\n",
    "    z = z'; % important to transpose z before calling contour\n",
    "\n",
    "    # Plot z = 0\n",
    "    # Notice you need to specify the range [0, 0]\n",
    "    contour(u, v, z, [0, 0], 'LineWidth', 2)\n",
    "end\n",
    "hold off\n",
    "end\n"
   ]
  },
  {
   "cell_type": "code",
   "execution_count": 59,
   "metadata": {},
   "outputs": [
    {
     "name": "stdout",
     "output_type": "stream",
     "text": [
      "[[0.01210401]\n",
      " [0.00183566]] -0.7466715646620984\n"
     ]
    }
   ],
   "source": [
    "print(w,b)"
   ]
  },
  {
   "cell_type": "code",
   "execution_count": null,
   "metadata": {},
   "outputs": [],
   "source": []
  }
 ],
 "metadata": {
  "kernelspec": {
   "display_name": "Python 3",
   "language": "python",
   "name": "python3"
  },
  "language_info": {
   "codemirror_mode": {
    "name": "ipython",
    "version": 3
   },
   "file_extension": ".py",
   "mimetype": "text/x-python",
   "name": "python",
   "nbconvert_exporter": "python",
   "pygments_lexer": "ipython3",
   "version": "3.7.6"
  }
 },
 "nbformat": 4,
 "nbformat_minor": 4
}
