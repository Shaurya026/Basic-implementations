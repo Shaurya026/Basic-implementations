{
 "cells": [
  {
   "cell_type": "markdown",
   "metadata": {},
   "source": [
    "<!-- <center><h1>\n",
    " Experiment #6 \n",
    "</h1>\n",
    "<b>AIM:</b> Build an artificial neural network by implementing the Backpropagation algorithm and test the same appropriate data set -->\n",
    "\n",
    "# Building a Neural Network from scratch and working on Breast Cancer Dataset"
   ]
  },
  {
   "cell_type": "markdown",
   "metadata": {},
   "source": [
    "*** \n",
    "* IMPORTING THE NECESSARY LIBRARIES"
   ]
  },
  {
   "cell_type": "code",
   "execution_count": 71,
   "metadata": {},
   "outputs": [],
   "source": [
    "import numpy as np\n",
    "import pandas as pd\n",
    "import matplotlib.pyplot as plt\n",
    "from sklearn.datasets import load_breast_cancer\n",
    "from sklearn.model_selection import train_test_split"
   ]
  },
  {
   "cell_type": "markdown",
   "metadata": {},
   "source": [
    "We will be applying a neural network on breast cancer data set where value of :\n",
    "* 0 => Malignant\n",
    "* 1 => Benign"
   ]
  },
  {
   "cell_type": "code",
   "execution_count": 72,
   "metadata": {},
   "outputs": [
    {
     "name": "stdout",
     "output_type": "stream",
     "text": [
      "(569, 30)\n"
     ]
    }
   ],
   "source": [
    "d = load_breast_cancer()\n",
    "print(d['data'].shape)"
   ]
  },
  {
   "cell_type": "markdown",
   "metadata": {},
   "source": [
    "this is our row-wise data for breast cancer prediciton, we need to normalize our data for our NN to achieve the minima quickly at an high learning rate"
   ]
  },
  {
   "cell_type": "code",
   "execution_count": 73,
   "metadata": {},
   "outputs": [
    {
     "data": {
      "text/plain": [
       "array([[1.799e+01, 2.057e+01, 1.969e+01, ..., 1.660e+01, 2.060e+01,\n",
       "        7.760e+00],\n",
       "       [1.038e+01, 1.777e+01, 2.125e+01, ..., 2.808e+01, 2.933e+01,\n",
       "        2.454e+01],\n",
       "       [1.228e+02, 1.329e+02, 1.300e+02, ..., 1.083e+02, 1.401e+02,\n",
       "        4.792e+01],\n",
       "       ...,\n",
       "       [2.654e-01, 1.860e-01, 2.430e-01, ..., 1.418e-01, 2.650e-01,\n",
       "        0.000e+00],\n",
       "       [4.601e-01, 2.750e-01, 3.613e-01, ..., 2.218e-01, 4.087e-01,\n",
       "        2.871e-01],\n",
       "       [1.189e-01, 8.902e-02, 8.758e-02, ..., 7.820e-02, 1.240e-01,\n",
       "        7.039e-02]])"
      ]
     },
     "execution_count": 73,
     "metadata": {},
     "output_type": "execute_result"
    }
   ],
   "source": [
    "d['data'].transpose()\n",
    "# each row represents a column's data so we  can normalize a row here "
   ]
  },
  {
   "cell_type": "code",
   "execution_count": 78,
   "metadata": {},
   "outputs": [
    {
     "data": {
      "text/plain": [
       "(30, 569)"
      ]
     },
     "execution_count": 78,
     "metadata": {},
     "output_type": "execute_result"
    }
   ],
   "source": [
    "# looking at the shape of our data \n",
    "d['data'].transpose().shape"
   ]
  },
  {
   "cell_type": "code",
   "execution_count": 79,
   "metadata": {},
   "outputs": [
    {
     "name": "stdout",
     "output_type": "stream",
     "text": [
      "[[0.85143641 0.97354347 0.93189455 ... 0.78565005 0.97496332 0.36726774]\n",
      " [0.35103145 0.60094691 0.71863375 ... 0.94961109 0.99188367 0.82989516]\n",
      " [0.84859374 0.9183885  0.89834842 ... 0.74839334 0.96814318 0.33114505]\n",
      " ...\n",
      " [0.91202749 0.63917526 0.83505155 ... 0.48728522 0.91065292 0.        ]\n",
      " [0.90695841 0.54208555 0.71220185 ... 0.43721664 0.80563769 0.56593732]\n",
      " [0.77987669 0.58389086 0.57444576 ... 0.51292142 0.81332809 0.46169487]]\n",
      "[[0 0 0 0 0 0 0 0 0 0 0 0 0 0 0 0 0 0 0 1 1 1 0 0 0 0 0 0 0 0 0 0 0 0 0 0\n",
      "  0 1 0 0 0 0 0 0 0 0 1 0 1 1 1 1 1 0 0 1 0 0 1 1 1 1 0 1 0 0 1 1 1 1 0 1\n",
      "  0 0 1 0 1 0 0 1 1 1 0 0 1 0 0 0 1 1 1 0 1 1 0 0 1 1 1 0 0 1 1 1 1 0 1 1\n",
      "  0 1 1 1 1 1 1 1 1 0 0 0 1 0 0 1 1 1 0 0 1 0 1 0 0 1 0 0 1 1 0 1 1 0 1 1\n",
      "  1 1 0 1 1 1 1 1 1 1 1 1 0 1 1 1 1 0 0 1 0 1 1 0 0 1 1 0 0 1 1 1 1 0 1 1\n",
      "  0 0 0 1 0 1 0 1 1 1 0 1 1 0 0 1 0 0 0 0 1 0 0 0 1 0 1 0 1 1 0 1 0 0 0 0\n",
      "  1 1 0 0 1 1 1 0 1 1 1 1 1 0 0 1 1 0 1 1 0 0 1 0 1 1 1 1 0 1 1 1 1 1 0 1\n",
      "  0 0 0 0 0 0 0 0 0 0 0 0 0 0 1 1 1 1 1 1 0 1 0 1 1 0 1 1 0 1 0 0 1 1 1 1\n",
      "  1 1 1 1 1 1 1 1 1 0 1 1 0 1 0 1 1 1 1 1 1 1 1 1 1 1 1 1 1 0 1 1 1 0 1 0\n",
      "  1 1 1 1 0 0 0 1 1 1 1 0 1 0 1 0 1 1 1 0 1 1 1 1 1 1 1 0 0 0 1 1 1 1 1 1\n",
      "  1 1 1 1 1 0 0 1 0 0 0 1 0 0 1 1 1 1 1 0 1 1 1 1 1 0 1 1 1 0 1 1 0 0 1 1\n",
      "  1 1 1 1 0 1 1 1 1 1 1 1 0 1 1 1 1 1 0 1 1 0 1 1 1 1 1 1 1 1 1 1 1 1 0 1\n",
      "  0 0 1 0 1 1 1 1 1 0 1 1 0 1 0 1 1 0 1 0 1 1 1 1 1 1 1 1 0 0 1 1 1 1 1 1\n",
      "  0 1 1 1 1 1 1 1 1 1 1 0 1 1 1 1 1 1 1 0 1 0 1 1 0 1 1 1 1 1 0 0 1 0 1 0\n",
      "  1 1 1 1 1 0 1 1 0 1 0 1 0 0 1 1 1 0 1 1 1 1 1 1 1 1 1 1 1 0 1 0 0 1 1 1\n",
      "  1 1 1 1 1 1 1 1 1 1 1 1 1 1 1 1 1 1 1 1 1 1 0 0 0 0 0 0 1]]\n"
     ]
    }
   ],
   "source": [
    "# NORMALIZING THE DATASET b/w 0 and 1: \n",
    "x = d['data'].transpose().copy()\n",
    "for i in range(len(x)):\n",
    "    x[i] = (x[i])/(np.max(x[i]) - np.min(x[i])) \n",
    "    \n",
    "print(x)\n",
    "\n",
    "# looking at the output values \n",
    "y = d['target'].copy()\n",
    "y = y.reshape((1,len(y)))\n",
    "print(y)"
   ]
  },
  {
   "cell_type": "markdown",
   "metadata": {},
   "source": [
    "### Dividing the dataset for Hold-Out Cross Validation"
   ]
  },
  {
   "cell_type": "code",
   "execution_count": 80,
   "metadata": {},
   "outputs": [],
   "source": [
    "# dividing the data set uniformly in 70-30 ratio \n",
    "(X_train, X_test, Y_train, Y_test) = train_test_split(x.T, y.T, train_size=0.7, random_state=1)"
   ]
  },
  {
   "cell_type": "code",
   "execution_count": 81,
   "metadata": {},
   "outputs": [
    {
     "data": {
      "text/plain": [
       "(30, 398)"
      ]
     },
     "execution_count": 81,
     "metadata": {},
     "output_type": "execute_result"
    }
   ],
   "source": [
    "X_train.T.shape"
   ]
  },
  {
   "cell_type": "markdown",
   "metadata": {},
   "source": [
    "## Model Making "
   ]
  },
  {
   "cell_type": "code",
   "execution_count": 82,
   "metadata": {},
   "outputs": [],
   "source": [
    "# defining activation functions: \n",
    "def sigmoid(z):\n",
    "    return 1/(1+np.exp(-z))\n",
    "def ReLU(z):\n",
    "    #zero = np.zeros(z.shape)\n",
    "    #return np.max(zero,z) # returns element wise maximum\n",
    "    z[z < 0] = 0\n",
    "    return z\n",
    "def ReLU_derivative(z):\n",
    "    z[z > 0] = 1\n",
    "    z[z <= 0] = 0\n",
    "    return z"
   ]
  },
  {
   "cell_type": "code",
   "execution_count": 204,
   "metadata": {},
   "outputs": [],
   "source": [
    "def layer_i(prev_activation,W ,b):\n",
    "    z = np.dot(W,prev_activation) + b\n",
    "    g = ReLU(z)\n",
    "    data_node = {'w':W, 'b':b, 'z':z, 'a':g}\n",
    "    return data_node\n",
    "\n",
    "def LOSS(Y_true,Y_pred):\n",
    "    return (-1/Y_true.shape[1]) * np.sum(Y_true*np.log(Y_pred) + (1-Y_true)*np.log(1-Y_pred))\n",
    "\n",
    "def Backward_Prop(w_plus, dz_plus, z_curr, input_val, length):\n",
    "    da = np.dot(w_plus.T,dz_plus)\n",
    "    dz = np.multiply(da,ReLU_derivative(z_curr))\n",
    "    dw = np.dot(dz, input_val.T)\n",
    "    db = (1/length) * np.sum(dz,axis = 1, keepdims = True)\n",
    "    return {'dz':dz,'dw':dw,'db':db}\n",
    "    \n",
    "def LOGISTIC_REGRESSION_NEURAL_NET(input_values, output_values, learn_rate, num_iterations):\n",
    "    length = input_values.shape[1]\n",
    "    np.random.seed(2)\n",
    "    l1 = {'w':np.random.rand(8,input_values.shape[0]) * 0.01, 'b': np.zeros((8,1))}\n",
    "    l2 = {'w':np.random.rand(4,8) * 0.01, 'b': np.zeros((4,1))}\n",
    "    l3 = {'w':np.random.rand(2,4) * 0.01, 'b': np.zeros((2,1))}\n",
    "    l4 = {'w':np.random.rand(1,2) * 0.01, 'b': np.zeros((1,1))}\n",
    "    \n",
    "    cost_values = []\n",
    "    \n",
    "    print('layer1:','weights dimensions',l1['w'].shape)\n",
    "    print('layer2:','weights dimensions',l2['w'].shape,l2['b'].shape)\n",
    "    print('layer3:','weights dimensions',l3['w'].shape,l3['b'].shape)\n",
    "    print('layer4:','weights dimensions',l4['w'].shape,l4['b'].shape)\n",
    "    #print(cost)\n",
    "    \n",
    "    for i in range(1,num_iterations+1):\n",
    "        l1 = layer_i(input_values,l1['w'],l1['b'])\n",
    "        l2 = layer_i(l1['a'],l2['w'],l2['b'])\n",
    "        l3 = layer_i(l2['a'],l3['w'],l3['b'])\n",
    "        l4 = layer_i(l3['a'],l4['w'],l4['b'])\n",
    "        # l4 is the output so we need to change it's activation values\n",
    "        l4['a'] = sigmoid(l4['z'])\n",
    "        cost = LOSS(output_values,l4['a'])\n",
    "        cost_values.append(cost)\n",
    "        \n",
    "        # defining backprop for the last layer manually since the activation function is different \n",
    "        dz = l4['a'] - output_values\n",
    "        dw = np.dot(dz,l3['a'].T)\n",
    "        db = (1/length) * np.sum(dz,axis = 1,keepdims = True)\n",
    "        \n",
    "        # Now backpropagating in other layers:\n",
    "        dl3 = Backward_Prop(l4['w'],dz,l3['z'],l2['a'],length)\n",
    "        dl2 = Backward_Prop(l3['w'],dl3['dz'],l2['z'],l1['a'],length)\n",
    "        dl1 = Backward_Prop(l2['w'],dl2['dz'],l1['z'],input_values,length)\n",
    "        \n",
    "        # updating the values:\n",
    "        l4['w'] = l4['w'] - learn_rate*dw\n",
    "        l4['b'] = l4['b'] - learn_rate*db\n",
    "        l3['w'] = l3['w'] - learn_rate*dl3['dw']\n",
    "        l3['b'] = l3['b'] - learn_rate*dl3['db']\n",
    "        l2['w'] = l2['w'] - learn_rate*dl2['dw']\n",
    "        l2['b'] = l2['b'] - learn_rate*dl2['db']\n",
    "        l1['w'] = l1['w'] - learn_rate*dl1['dw']\n",
    "        l1['b'] = l1['b'] - learn_rate*dl1['db']\n",
    "        \n",
    "        if i % 100 == 0:\n",
    "            print('COST AFTER',i,'ITERATIONS ====>',cost)\n",
    "    return {'l1':l1,'l2':l2,'l3':l3,'l4':l4}, cost_values"
   ]
  },
  {
   "cell_type": "markdown",
   "metadata": {},
   "source": [
    "#### Running the MODEL for learning on Training set"
   ]
  },
  {
   "cell_type": "code",
   "execution_count": 206,
   "metadata": {},
   "outputs": [
    {
     "name": "stdout",
     "output_type": "stream",
     "text": [
      "layer1: weights dimensions (8, 30)\n",
      "layer2: weights dimensions (4, 8) (4, 1)\n",
      "layer3: weights dimensions (2, 4) (2, 1)\n",
      "layer4: weights dimensions (1, 2) (1, 1)\n",
      "COST AFTER 100 ITERATIONS ====> 0.6807235124690812\n",
      "COST AFTER 200 ITERATIONS ====> 0.6729272323963584\n",
      "COST AFTER 300 ITERATIONS ====> 0.6663040507288249\n",
      "COST AFTER 400 ITERATIONS ====> 0.33673326887368554\n",
      "COST AFTER 500 ITERATIONS ====> 0.30814776740201616\n",
      "COST AFTER 600 ITERATIONS ====> 0.2870794896605691\n"
     ]
    }
   ],
   "source": [
    "layers, cost = LOGISTIC_REGRESSION_NEURAL_NET(X_train.T,Y_train.T,0.001,600)"
   ]
  },
  {
   "cell_type": "markdown",
   "metadata": {},
   "source": [
    "<b> looking at the learning of model through loss :"
   ]
  },
  {
   "cell_type": "code",
   "execution_count": 219,
   "metadata": {},
   "outputs": [
    {
     "data": {
      "text/plain": [
       "[<matplotlib.lines.Line2D at 0x13002378970>]"
      ]
     },
     "execution_count": 219,
     "metadata": {},
     "output_type": "execute_result"
    },
    {
     "data": {
      "image/png": "[encoded data removed]",
      "text/plain": [
       "<Figure size 432x288 with 1 Axes>"
      ]
     },
     "metadata": {
      "needs_background": "light"
     },
     "output_type": "display_data"
    }
   ],
   "source": [
    "a = range(len(cost))\n",
    "plt.xlabel('number of iterations')\n",
    "plt.ylabel('loss')\n",
    "plt.plot(a,cost)"
   ]
  },
  {
   "cell_type": "code",
   "execution_count": 231,
   "metadata": {},
   "outputs": [],
   "source": [
    "# defining function for performance measures:\n",
    "def confusion_mat(predicted,Y_test):\n",
    "    ans = {'TP':0, 'TN':0, 'FP':0, 'FN':0}\n",
    "    for i,j in zip(Y_test,predicted):\n",
    "        if i == 0 and j == 0:\n",
    "            ans['TN'] += 1\n",
    "        elif i ==1 and j == 1:\n",
    "            ans['TP'] += 1\n",
    "        elif i == 0 and j == 1:\n",
    "            ans['FP'] += 1\n",
    "        else:\n",
    "            ans['FN'] += 1\n",
    "    return ans\n",
    "\n",
    "def Recall(ans):\n",
    "    return (ans['TP'])/(ans['TP'] + ans['FN'])\n",
    "def Precision(ans):\n",
    "    return (ans['TP'])/(ans['TP'] + ans['FP'])\n",
    "def accuracy(ans):\n",
    "    return (ans['TP'] + ans['TN'])/(ans['TP'] + ans['TN'] + ans['FN'] + ans['FP'])\n",
    "def F_measure(ans):\n",
    "    return (2*Precision(ans)*Recall(ans))/(Precision(ans) + Recall(ans))\n",
    "def misclassification_rate(ans):\n",
    "    return (ans['FP'] + ans['FN'])/(ans['TP'] + ans['TN'] + ans['FN'] + ans['FP'])\n",
    "def FPR(ans):\n",
    "    return ans['FP']/(ans['FP'] + ans['TN'])\n",
    "def G_measure(ans):\n",
    "    return (2*Recall(ans)*(1-FPR(ans)))/(Recall(ans) + (1-FPR(ans)))"
   ]
  },
  {
   "cell_type": "markdown",
   "metadata": {},
   "source": [
    "### Metrics on Training set : "
   ]
  },
  {
   "cell_type": "code",
   "execution_count": 232,
   "metadata": {},
   "outputs": [
    {
     "name": "stdout",
     "output_type": "stream",
     "text": [
      "Total correct predicitons: 393\n",
      "Total False predicitons: 5\n",
      "accuracy : 0.9874371859296482\n"
     ]
    }
   ],
   "source": [
    "a = (Y_train.T == np.round(layers['l4']['a']))\n",
    "l = a.shape[1]\n",
    "T = 0\n",
    "F = 0\n",
    "for i in a[0]:\n",
    "    if i:\n",
    "        T += 1\n",
    "    else:\n",
    "        F += 1\n",
    "print(\"Total correct predicitons:\",T)\n",
    "print(\"Total False predicitons:\",F)\n",
    "print('accuracy :', T/l)"
   ]
  },
  {
   "cell_type": "code",
   "execution_count": 235,
   "metadata": {},
   "outputs": [
    {
     "name": "stdout",
     "output_type": "stream",
     "text": [
      "confusion matrix: {'TP': 247, 'TN': 146, 'FP': 3, 'FN': 2}\n",
      "Recall: 0.9919678714859438\n",
      "Precision: 0.988\n",
      "accuracy: 0.9874371859296482\n",
      "F-measure: 0.9899799599198397\n",
      "G-measure: 0.9858796834205886\n"
     ]
    }
   ],
   "source": [
    "train = confusion_mat(np.round(layers['l4']['a'][0]), Y_train.T[0])\n",
    "print('confusion matrix:',train)\n",
    "print('Recall:', Recall(train))\n",
    "print('Precision:', Precision(train))\n",
    "print('accuracy:', accuracy(train))\n",
    "print('F-measure:', F_measure(train))\n",
    "print('G-measure:', G_measure(train))"
   ]
  },
  {
   "cell_type": "markdown",
   "metadata": {},
   "source": [
    "### Metrics on Test Set :"
   ]
  },
  {
   "cell_type": "code",
   "execution_count": 192,
   "metadata": {},
   "outputs": [
    {
     "name": "stdout",
     "output_type": "stream",
     "text": [
      "[[1. 0. 1. 0. 0. 0. 0. 0. 1. 1. 1. 0. 0. 1. 1. 1. 1. 1. 1. 0. 1. 1. 0. 1.\n",
      "  0. 1. 1. 0. 0. 0. 0. 1. 0. 0. 1. 1. 0. 1. 1. 1. 1. 1. 1. 1. 1. 0. 1. 1.\n",
      "  1. 0. 0. 0. 1. 1. 1. 1. 1. 0. 1. 1. 1. 0. 1. 0. 1. 1. 1. 0. 1. 1. 1. 1.\n",
      "  1. 0. 1. 0. 0. 1. 1. 0. 1. 0. 1. 0. 1. 1. 0. 1. 0. 1. 1. 0. 1. 1. 0. 0.\n",
      "  1. 1. 1. 1. 1. 1. 1. 1. 1. 1. 1. 1. 0. 0. 0. 1. 1. 1. 0. 0. 1. 1. 1. 1.\n",
      "  1. 0. 0. 1. 1. 0. 0. 0. 0. 0. 1. 1. 1. 0. 1. 0. 0. 1. 1. 0. 0. 0. 1. 0.\n",
      "  1. 0. 1. 1. 1. 0. 1. 1. 1. 0. 1. 1. 1. 1. 1. 1. 1. 1. 1. 0. 1. 1. 0. 0.\n",
      "  0. 1. 1.]]\n"
     ]
    }
   ],
   "source": [
    "# making predicitons on test set :\n",
    "prev_activation = X_test.T\n",
    "g = None\n",
    "for i,v in enumerate(layers.values()):\n",
    "    z = np.dot(v['w'],prev_activation) + v['b']\n",
    "    g = ReLU(z)\n",
    "    prev_activation = g\n",
    "    if i == 3:\n",
    "        g = sigmoid(z)\n",
    "print(np.round(g))"
   ]
  },
  {
   "cell_type": "code",
   "execution_count": 236,
   "metadata": {},
   "outputs": [
    {
     "name": "stdout",
     "output_type": "stream",
     "text": [
      "confusion matrix: {'TP': 105, 'TN': 60, 'FP': 3, 'FN': 3}\n",
      "Recall: 0.9722222222222222\n",
      "Precision: 0.9722222222222222\n",
      "accuracy: 0.9649122807017544\n",
      "F-measure: 0.9722222222222222\n",
      "G-measure: 0.9621993127147767\n"
     ]
    }
   ],
   "source": [
    "test = confusion_mat(np.round(g[0]), Y_test.T[0])\n",
    "print('confusion matrix:',test)\n",
    "print('Recall:', Recall(test))\n",
    "print('Precision:', Precision(test))\n",
    "print('accuracy:', accuracy(test))\n",
    "print('F-measure:', F_measure(test))\n",
    "print('G-measure:', G_measure(test))"
   ]
  },
  {
   "cell_type": "code",
   "execution_count": 237,
   "metadata": {},
   "outputs": [
    {
     "name": "stdout",
     "output_type": "stream",
     "text": [
      "Total correct predicitons: 165\n",
      "Total False predicitons: 6\n",
      "accuracy : 0.9649122807017544\n"
     ]
    }
   ],
   "source": [
    "a = (Y_test.T == np.round(g))\n",
    "l = a.shape[1]\n",
    "T = 0\n",
    "F = 0\n",
    "for i in a[0]:\n",
    "    if i:\n",
    "        T += 1\n",
    "    else:\n",
    "        F += 1\n",
    "print(\"Total correct predicitons:\",T)\n",
    "print(\"Total False predicitons:\",F)\n",
    "print('accuracy :', T/l)"
   ]
  },
  {
   "cell_type": "markdown",
   "metadata": {},
   "source": [
    "### Looking at model in keras : "
   ]
  },
  {
   "cell_type": "code",
   "execution_count": 255,
   "metadata": {},
   "outputs": [],
   "source": [
    "# trying on tensorflow : \n",
    "import tensorflow as tf\n",
    "# lr_schedule = tf.keras.optimizers.schedules.ExponentialDecay(\n",
    "#     initial_learning_rate=1e-2,\n",
    "#     decay_steps=10000,\n",
    "#     decay_rate=0.9)\n",
    "# opt = tf.keras.optimizers.SGD(learning_rate=lr_schedule)\n",
    "opt = tf.keras.optimizers.Adam(learning_rate=0.001)\n",
    "Model = tf.keras.models.Sequential([\n",
    "    tf.keras.layers.Dense(units = 8, activation = tf.nn.relu, input_shape = [30,]),\n",
    "    tf.keras.layers.Dense(units = 4, activation = tf.nn.relu),\n",
    "    tf.keras.layers.Dense(units = 2, activation = tf.nn.relu),\n",
    "    tf.keras.layers.Dense(units = 1, activation = tf.nn.sigmoid)\n",
    "])\n",
    "Model.compile(optimizer = opt, loss='binary_crossentropy', metrics=['acc'])"
   ]
  },
  {
   "cell_type": "code",
   "execution_count": 257,
   "metadata": {},
   "outputs": [
    {
     "name": "stdout",
     "output_type": "stream",
     "text": [
      "Epoch 1/100\n",
      "18/18 [==============================] - 0s 888us/step - loss: 0.6774 - acc: 0.6098\n",
      "Epoch 2/100\n",
      "18/18 [==============================] - 0s 1ms/step - loss: 0.6450 - acc: 0.6274\n",
      "Epoch 3/100\n",
      "18/18 [==============================] - 0s 1ms/step - loss: 0.6108 - acc: 0.6274\n",
      "Epoch 4/100\n",
      "18/18 [==============================] - 0s 1ms/step - loss: 0.5791 - acc: 0.6274\n",
      "Epoch 5/100\n",
      "18/18 [==============================] - 0s 888us/step - loss: 0.5533 - acc: 0.6292\n",
      "Epoch 6/100\n",
      "18/18 [==============================] - 0s 1ms/step - loss: 0.5273 - acc: 0.7188\n",
      "Epoch 7/100\n",
      "18/18 [==============================] - 0s 1ms/step - loss: 0.4952 - acc: 0.8278\n",
      "Epoch 8/100\n",
      "18/18 [==============================] - 0s 1ms/step - loss: 0.4608 - acc: 0.8647\n",
      "Epoch 9/100\n",
      "18/18 [==============================] - 0s 2ms/step - loss: 0.4259 - acc: 0.8524\n",
      "Epoch 10/100\n",
      "18/18 [==============================] - 0s 1ms/step - loss: 0.3917 - acc: 0.8981\n",
      "Epoch 11/100\n",
      "18/18 [==============================] - 0s 1ms/step - loss: 0.3569 - acc: 0.8998\n",
      "Epoch 12/100\n",
      "18/18 [==============================] - 0s 1ms/step - loss: 0.3263 - acc: 0.9104\n",
      "Epoch 13/100\n",
      "18/18 [==============================] - 0s 2ms/step - loss: 0.2850 - acc: 0.9192\n",
      "Epoch 14/100\n",
      "18/18 [==============================] - 0s 1ms/step - loss: 0.2503 - acc: 0.9350\n",
      "Epoch 15/100\n",
      "18/18 [==============================] - 0s 1ms/step - loss: 0.2226 - acc: 0.9297\n",
      "Epoch 16/100\n",
      "18/18 [==============================] - 0s 1ms/step - loss: 0.2077 - acc: 0.9438\n",
      "Epoch 17/100\n",
      "18/18 [==============================] - 0s 1ms/step - loss: 0.1963 - acc: 0.9402\n",
      "Epoch 18/100\n",
      "18/18 [==============================] - 0s 1ms/step - loss: 0.1851 - acc: 0.9385\n",
      "Epoch 19/100\n",
      "18/18 [==============================] - 0s 2ms/step - loss: 0.1772 - acc: 0.9420\n",
      "Epoch 20/100\n",
      "18/18 [==============================] - 0s 2ms/step - loss: 0.1697 - acc: 0.9420\n",
      "Epoch 21/100\n",
      "18/18 [==============================] - 0s 2ms/step - loss: 0.1633 - acc: 0.9543\n",
      "Epoch 22/100\n",
      "18/18 [==============================] - 0s 4ms/step - loss: 0.1571 - acc: 0.9490\n",
      "Epoch 23/100\n",
      "18/18 [==============================] - 0s 4ms/step - loss: 0.1520 - acc: 0.9508\n",
      "Epoch 24/100\n",
      "18/18 [==============================] - 0s 3ms/step - loss: 0.1484 - acc: 0.9561\n",
      "Epoch 25/100\n",
      "18/18 [==============================] - 0s 3ms/step - loss: 0.1464 - acc: 0.9455\n",
      "Epoch 26/100\n",
      "18/18 [==============================] - 0s 3ms/step - loss: 0.1394 - acc: 0.9561\n",
      "Epoch 27/100\n",
      "18/18 [==============================] - 0s 4ms/step - loss: 0.1342 - acc: 0.9525\n",
      "Epoch 28/100\n",
      "18/18 [==============================] - 0s 2ms/step - loss: 0.1342 - acc: 0.9561\n",
      "Epoch 29/100\n",
      "18/18 [==============================] - 0s 1ms/step - loss: 0.1280 - acc: 0.9596\n",
      "Epoch 30/100\n",
      "18/18 [==============================] - 0s 1ms/step - loss: 0.1256 - acc: 0.9525\n",
      "Epoch 31/100\n",
      "18/18 [==============================] - 0s 2ms/step - loss: 0.1237 - acc: 0.9561\n",
      "Epoch 32/100\n",
      "18/18 [==============================] - 0s 2ms/step - loss: 0.1187 - acc: 0.9649\n",
      "Epoch 33/100\n",
      "18/18 [==============================] - 0s 2ms/step - loss: 0.1161 - acc: 0.9631\n",
      "Epoch 34/100\n",
      "18/18 [==============================] - 0s 2ms/step - loss: 0.1153 - acc: 0.9596\n",
      "Epoch 35/100\n",
      "18/18 [==============================] - 0s 1ms/step - loss: 0.1123 - acc: 0.9596\n",
      "Epoch 36/100\n",
      "18/18 [==============================] - 0s 1ms/step - loss: 0.1103 - acc: 0.9596\n",
      "Epoch 37/100\n",
      "18/18 [==============================] - 0s 1ms/step - loss: 0.1119 - acc: 0.9525\n",
      "Epoch 38/100\n",
      "18/18 [==============================] - 0s 1ms/step - loss: 0.1086 - acc: 0.9596\n",
      "Epoch 39/100\n",
      "18/18 [==============================] - 0s 1ms/step - loss: 0.1054 - acc: 0.9649\n",
      "Epoch 40/100\n",
      "18/18 [==============================] - 0s 2ms/step - loss: 0.1017 - acc: 0.9666\n",
      "Epoch 41/100\n",
      "18/18 [==============================] - 0s 1ms/step - loss: 0.1003 - acc: 0.9649\n",
      "Epoch 42/100\n",
      "18/18 [==============================] - 0s 2ms/step - loss: 0.0990 - acc: 0.9631\n",
      "Epoch 43/100\n",
      "18/18 [==============================] - 0s 1ms/step - loss: 0.0968 - acc: 0.9701\n",
      "Epoch 44/100\n",
      "18/18 [==============================] - 0s 2ms/step - loss: 0.0977 - acc: 0.9684\n",
      "Epoch 45/100\n",
      "18/18 [==============================] - 0s 1ms/step - loss: 0.0953 - acc: 0.9631\n",
      "Epoch 46/100\n",
      "18/18 [==============================] - 0s 1ms/step - loss: 0.0962 - acc: 0.9684\n",
      "Epoch 47/100\n",
      "18/18 [==============================] - 0s 1ms/step - loss: 0.0927 - acc: 0.9666\n",
      "Epoch 48/100\n",
      "18/18 [==============================] - 0s 2ms/step - loss: 0.0897 - acc: 0.9754\n",
      "Epoch 49/100\n",
      "18/18 [==============================] - 0s 2ms/step - loss: 0.0888 - acc: 0.9666\n",
      "Epoch 50/100\n",
      "18/18 [==============================] - 0s 2ms/step - loss: 0.0878 - acc: 0.9754\n",
      "Epoch 51/100\n",
      "18/18 [==============================] - 0s 1ms/step - loss: 0.0875 - acc: 0.9666\n",
      "Epoch 52/100\n",
      "18/18 [==============================] - 0s 1ms/step - loss: 0.0924 - acc: 0.9666\n",
      "Epoch 53/100\n",
      "18/18 [==============================] - 0s 1ms/step - loss: 0.0871 - acc: 0.9701\n",
      "Epoch 54/100\n",
      "18/18 [==============================] - 0s 1ms/step - loss: 0.0837 - acc: 0.9719\n",
      "Epoch 55/100\n",
      "18/18 [==============================] - 0s 1ms/step - loss: 0.0842 - acc: 0.9719\n",
      "Epoch 56/100\n",
      "18/18 [==============================] - 0s 1ms/step - loss: 0.0833 - acc: 0.9719\n",
      "Epoch 57/100\n",
      "18/18 [==============================] - 0s 2ms/step - loss: 0.0814 - acc: 0.9701\n",
      "Epoch 58/100\n",
      "18/18 [==============================] - 0s 1ms/step - loss: 0.0797 - acc: 0.9772\n",
      "Epoch 59/100\n",
      "18/18 [==============================] - 0s 2ms/step - loss: 0.0781 - acc: 0.9789\n",
      "Epoch 60/100\n",
      "18/18 [==============================] - 0s 2ms/step - loss: 0.0817 - acc: 0.9684\n",
      "Epoch 61/100\n",
      "18/18 [==============================] - 0s 1ms/step - loss: 0.0805 - acc: 0.9684\n",
      "Epoch 62/100\n",
      "18/18 [==============================] - 0s 1ms/step - loss: 0.0774 - acc: 0.9754\n",
      "Epoch 63/100\n",
      "18/18 [==============================] - 0s 2ms/step - loss: 0.0757 - acc: 0.9772\n",
      "Epoch 64/100\n",
      "18/18 [==============================] - 0s 1ms/step - loss: 0.0754 - acc: 0.9772\n",
      "Epoch 65/100\n",
      "18/18 [==============================] - 0s 1ms/step - loss: 0.0779 - acc: 0.9754\n",
      "Epoch 66/100\n",
      "18/18 [==============================] - 0s 1ms/step - loss: 0.0757 - acc: 0.9772\n",
      "Epoch 67/100\n",
      "18/18 [==============================] - 0s 1ms/step - loss: 0.0750 - acc: 0.9736\n",
      "Epoch 68/100\n",
      "18/18 [==============================] - 0s 2ms/step - loss: 0.0738 - acc: 0.9772\n",
      "Epoch 69/100\n",
      "18/18 [==============================] - 0s 2ms/step - loss: 0.0756 - acc: 0.9701\n",
      "Epoch 70/100\n",
      "18/18 [==============================] - 0s 2ms/step - loss: 0.0720 - acc: 0.9772\n",
      "Epoch 71/100\n",
      "18/18 [==============================] - 0s 2ms/step - loss: 0.0722 - acc: 0.9789\n",
      "Epoch 72/100\n",
      "18/18 [==============================] - 0s 2ms/step - loss: 0.0719 - acc: 0.9736\n",
      "Epoch 73/100\n",
      "18/18 [==============================] - 0s 2ms/step - loss: 0.0725 - acc: 0.9754\n",
      "Epoch 74/100\n",
      "18/18 [==============================] - 0s 2ms/step - loss: 0.0726 - acc: 0.9772\n",
      "Epoch 75/100\n",
      "18/18 [==============================] - 0s 2ms/step - loss: 0.0700 - acc: 0.9754\n",
      "Epoch 76/100\n",
      "18/18 [==============================] - 0s 2ms/step - loss: 0.0694 - acc: 0.9807\n",
      "Epoch 77/100\n",
      "18/18 [==============================] - 0s 2ms/step - loss: 0.0702 - acc: 0.9859\n",
      "Epoch 78/100\n",
      "18/18 [==============================] - 0s 2ms/step - loss: 0.0691 - acc: 0.9772\n",
      "Epoch 79/100\n",
      "18/18 [==============================] - 0s 2ms/step - loss: 0.0726 - acc: 0.9754\n",
      "Epoch 80/100\n",
      "18/18 [==============================] - 0s 2ms/step - loss: 0.0684 - acc: 0.9824\n",
      "Epoch 81/100\n",
      "18/18 [==============================] - 0s 2ms/step - loss: 0.0670 - acc: 0.9789\n",
      "Epoch 82/100\n",
      "18/18 [==============================] - 0s 2ms/step - loss: 0.0670 - acc: 0.9807\n",
      "Epoch 83/100\n",
      "18/18 [==============================] - 0s 2ms/step - loss: 0.0675 - acc: 0.9719\n",
      "Epoch 84/100\n",
      "18/18 [==============================] - 0s 2ms/step - loss: 0.0678 - acc: 0.9824\n",
      "Epoch 85/100\n",
      "18/18 [==============================] - 0s 2ms/step - loss: 0.0658 - acc: 0.9789\n",
      "Epoch 86/100\n",
      "18/18 [==============================] - 0s 2ms/step - loss: 0.0655 - acc: 0.9807\n",
      "Epoch 87/100\n"
     ]
    },
    {
     "name": "stdout",
     "output_type": "stream",
     "text": [
      "18/18 [==============================] - 0s 2ms/step - loss: 0.0659 - acc: 0.9789\n",
      "Epoch 88/100\n",
      "18/18 [==============================] - 0s 2ms/step - loss: 0.0656 - acc: 0.9824\n",
      "Epoch 89/100\n",
      "18/18 [==============================] - 0s 2ms/step - loss: 0.0652 - acc: 0.9807\n",
      "Epoch 90/100\n",
      "18/18 [==============================] - 0s 1ms/step - loss: 0.0643 - acc: 0.9807\n",
      "Epoch 91/100\n",
      "18/18 [==============================] - 0s 2ms/step - loss: 0.0646 - acc: 0.9789\n",
      "Epoch 92/100\n",
      "18/18 [==============================] - 0s 2ms/step - loss: 0.0646 - acc: 0.9772\n",
      "Epoch 93/100\n",
      "18/18 [==============================] - 0s 3ms/step - loss: 0.0657 - acc: 0.9789\n",
      "Epoch 94/100\n",
      "18/18 [==============================] - 0s 3ms/step - loss: 0.0636 - acc: 0.9772\n",
      "Epoch 95/100\n",
      "18/18 [==============================] - 0s 4ms/step - loss: 0.0641 - acc: 0.9736\n",
      "Epoch 96/100\n",
      "18/18 [==============================] - 0s 4ms/step - loss: 0.0644 - acc: 0.9807\n",
      "Epoch 97/100\n",
      "18/18 [==============================] - 0s 3ms/step - loss: 0.0619 - acc: 0.9807\n",
      "Epoch 98/100\n",
      "18/18 [==============================] - 0s 3ms/step - loss: 0.0639 - acc: 0.9807\n",
      "Epoch 99/100\n",
      "18/18 [==============================] - 0s 3ms/step - loss: 0.0639 - acc: 0.9772\n",
      "Epoch 100/100\n",
      "18/18 [==============================] - 0s 3ms/step - loss: 0.0623 - acc: 0.9772\n"
     ]
    },
    {
     "data": {
      "text/plain": [
       "<tensorflow.python.keras.callbacks.History at 0x13014a25310>"
      ]
     },
     "execution_count": 257,
     "metadata": {},
     "output_type": "execute_result"
    }
   ],
   "source": [
    "Model.fit(x.T, y.T, epochs=100,verbose = 1)"
   ]
  },
  {
   "cell_type": "markdown",
   "metadata": {},
   "source": [
    "### We can see Adam did much better than SGD i.e. achieved minima much quicker"
   ]
  },
  {
   "cell_type": "code",
   "execution_count": null,
   "metadata": {},
   "outputs": [],
   "source": []
  }
 ],
 "metadata": {
  "kernelspec": {
   "display_name": "Python 3",
   "language": "python",
   "name": "python3"
  },
  "language_info": {
   "codemirror_mode": {
    "name": "ipython",
    "version": 3
   },
   "file_extension": ".py",
   "mimetype": "text/x-python",
   "name": "python",
   "nbconvert_exporter": "python",
   "pygments_lexer": "ipython3",
   "version": "3.8.3"
  }
 },
 "nbformat": 4,
 "nbformat_minor": 4
}
