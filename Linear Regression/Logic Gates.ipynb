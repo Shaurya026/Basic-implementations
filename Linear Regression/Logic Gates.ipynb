{
 "cells": [
  {
   "cell_type": "markdown",
   "metadata": {},
   "source": [
    "## 1. AND Gate : "
   ]
  },
  {
   "cell_type": "code",
   "execution_count": 1,
   "metadata": {},
   "outputs": [],
   "source": [
    "import numpy as np\n",
    "def sigmoid(x):\n",
    "    return 1/(1+np.exp(-x))"
   ]
  },
  {
   "cell_type": "code",
   "execution_count": 2,
   "metadata": {},
   "outputs": [],
   "source": [
    "def AND(lr,number_of_iter = 100):\n",
    "    x = np.array([[0,0],[0,1],[1,0],[1,1]]).T # all possible values of x\n",
    "    y = np.array([[0],[0],[0],[1]]).T\n",
    "    m = len(y[0])\n",
    "    w = np.zeros((x.shape[0],1))\n",
    "    b = 0\n",
    "    for i in range(number_of_iter+1) :\n",
    "        z = np.dot(w.T,x) + b \n",
    "        h_theta = sigmoid(z)\n",
    "        cost = (-1/m) * np.sum( y*np.log(h_theta) + (1-y)*np.log(1-h_theta) )\n",
    "        dz =  (h_theta-y)\n",
    "        dw = (1/m) * np.dot(x,dz.T)\n",
    "        db = (1/m) * np.sum(dz)\n",
    "        w = w - lr*dw\n",
    "        b = b - lr*db\n",
    "        if i % 10 == 0 :\n",
    "            print('cost after',i,'th iteration:',cost)\n",
    "    return w,b"
   ]
  },
  {
   "cell_type": "code",
   "execution_count": 3,
   "metadata": {},
   "outputs": [
    {
     "name": "stdout",
     "output_type": "stream",
     "text": [
      "cost after 0 th iteration: 0.6931471805599453\n",
      "cost after 10 th iteration: 3.398826362959129e-05\n",
      "cost after 20 th iteration: 3.389091071982835e-05\n",
      "cost after 30 th iteration: 3.3798325518402846e-05\n",
      "cost after 40 th iteration: 3.371003070295256e-05\n",
      "cost after 50 th iteration: 3.3625598267325455e-05\n",
      "cost after 60 th iteration: 3.354464441281246e-05\n",
      "cost after 70 th iteration: 3.346682497461511e-05\n",
      "cost after 80 th iteration: 3.3391831325921194e-05\n",
      "cost after 90 th iteration: 3.331938670681965e-05\n",
      "cost after 100 th iteration: 3.3249242934473854e-05\n"
     ]
    },
    {
     "name": "stderr",
     "output_type": "stream",
     "text": [
      "C:\\Users\\shaur\\anaconda3\\lib\\site-packages\\ipykernel_launcher.py:10: RuntimeWarning: divide by zero encountered in log\n",
      "  # Remove the CWD from sys.path while we load stuff.\n",
      "C:\\Users\\shaur\\anaconda3\\lib\\site-packages\\ipykernel_launcher.py:10: RuntimeWarning: invalid value encountered in multiply\n",
      "  # Remove the CWD from sys.path while we load stuff.\n"
     ]
    }
   ],
   "source": [
    "w,b = AND(80)"
   ]
  },
  {
   "cell_type": "code",
   "execution_count": 4,
   "metadata": {},
   "outputs": [
    {
     "name": "stdout",
     "output_type": "stream",
     "text": [
      "[[20.00649809]\n",
      " [20.00649809]] -30.078303748769954\n"
     ]
    }
   ],
   "source": [
    "print(w,b)"
   ]
  },
  {
   "cell_type": "markdown",
   "metadata": {},
   "source": [
    "## 2. OR Gate "
   ]
  },
  {
   "cell_type": "code",
   "execution_count": 5,
   "metadata": {},
   "outputs": [],
   "source": [
    "def OR(lr,number_of_iter = 100):\n",
    "    x = np.array([[0,0],[0,1],[1,0],[1,1]]).T # all possible values of x\n",
    "    y = np.array([[0],[1],[1],[1]]).T\n",
    "    m = len(y[0])\n",
    "    w = np.zeros((x.shape[0],1))\n",
    "    b = 0\n",
    "    for i in range(number_of_iter+1) :\n",
    "        z = np.dot(w.T,x) + b \n",
    "        h_theta = sigmoid(z)\n",
    "        cost = (-1/m) * np.sum( y*np.log(h_theta) + (1-y)*np.log(1-h_theta) )\n",
    "        dz =  (h_theta-y)\n",
    "        dw = (1/m) * np.dot(x,dz.T)\n",
    "        db = (1/m) * np.sum(dz)\n",
    "        w = w - lr*dw\n",
    "        b = b - lr*db\n",
    "        if i % 10 == 0 :\n",
    "            print('cost after',i,'th iteration:',cost)\n",
    "    return w,b"
   ]
  },
  {
   "cell_type": "code",
   "execution_count": 6,
   "metadata": {},
   "outputs": [
    {
     "name": "stdout",
     "output_type": "stream",
     "text": [
      "cost after 0 th iteration: 0.6931471805599453\n",
      "cost after 10 th iteration: 3.383654099589471e-05\n",
      "cost after 20 th iteration: 3.354624793580835e-05\n",
      "cost after 30 th iteration: 3.327069966676072e-05\n",
      "cost after 40 th iteration: 3.300877640550772e-05\n",
      "cost after 50 th iteration: 3.275945912975126e-05\n",
      "cost after 60 th iteration: 3.25218189851724e-05\n",
      "cost after 70 th iteration: 3.229500798359724e-05\n",
      "cost after 80 th iteration: 3.207825081210812e-05\n",
      "cost after 90 th iteration: 3.1870837601727585e-05\n",
      "cost after 100 th iteration: 3.167211752834262e-05\n"
     ]
    },
    {
     "name": "stderr",
     "output_type": "stream",
     "text": [
      "C:\\Users\\shaur\\anaconda3\\lib\\site-packages\\ipykernel_launcher.py:10: RuntimeWarning: divide by zero encountered in log\n",
      "  # Remove the CWD from sys.path while we load stuff.\n",
      "C:\\Users\\shaur\\anaconda3\\lib\\site-packages\\ipykernel_launcher.py:10: RuntimeWarning: invalid value encountered in multiply\n",
      "  # Remove the CWD from sys.path while we load stuff.\n"
     ]
    }
   ],
   "source": [
    "w,b = OR(80)"
   ]
  },
  {
   "cell_type": "code",
   "execution_count": 7,
   "metadata": {},
   "outputs": [
    {
     "name": "stdout",
     "output_type": "stream",
     "text": [
      "[[20.08221824]\n",
      " [20.08221824]] -9.92803564092803\n"
     ]
    }
   ],
   "source": [
    "print(w,b)"
   ]
  },
  {
   "cell_type": "markdown",
   "metadata": {},
   "source": [
    "## 3. NOT Gate"
   ]
  },
  {
   "cell_type": "code",
   "execution_count": 8,
   "metadata": {},
   "outputs": [],
   "source": [
    "def NOT(lr,number_of_iter = 100):\n",
    "    x = np.array([[0],[1]]).T # all possible values of x\n",
    "    y = np.array([[1],[0]]).T\n",
    "    m = len(y[0])\n",
    "    w = np.zeros((x.shape[0],1))\n",
    "    b = 0\n",
    "    for i in range(number_of_iter+1) :\n",
    "        z = np.dot(w.T,x) + b \n",
    "        h_theta = sigmoid(z)\n",
    "        cost = (-1/m) * np.sum( y*np.log(h_theta) + (1-y)*np.log(1-h_theta) )\n",
    "        dz =  (h_theta-y)\n",
    "        dw = (1/m) * np.dot(x,dz.T)\n",
    "        db = (1/m) * np.sum(dz)\n",
    "        w = w - lr*dw\n",
    "        b = b - lr*db\n",
    "        if i % 10 == 0 :\n",
    "            print('cost after',i,'th iteration:',cost)\n",
    "    return w,b"
   ]
  },
  {
   "cell_type": "code",
   "execution_count": 9,
   "metadata": {},
   "outputs": [
    {
     "name": "stdout",
     "output_type": "stream",
     "text": [
      "cost after 0 th iteration: 0.6931471805599453\n",
      "cost after 10 th iteration: 1.6716639700418993e-05\n",
      "cost after 20 th iteration: 1.6687016561867693e-05\n",
      "cost after 30 th iteration: 1.6657590050576013e-05\n",
      "cost after 40 th iteration: 1.6628356814733112e-05\n",
      "cost after 50 th iteration: 1.6599313584965193e-05\n",
      "cost after 60 th iteration: 1.6570457171559817e-05\n",
      "cost after 70 th iteration: 1.6541784462633974e-05\n",
      "cost after 80 th iteration: 1.651329242169148e-05\n",
      "cost after 90 th iteration: 1.648497808540246e-05\n",
      "cost after 100 th iteration: 1.6456838561382794e-05\n"
     ]
    }
   ],
   "source": [
    "w,b = NOT(44)"
   ]
  },
  {
   "cell_type": "code",
   "execution_count": 10,
   "metadata": {},
   "outputs": [
    {
     "name": "stdout",
     "output_type": "stream",
     "text": [
      "[[-22.03088187]] 10.983522924950247\n"
     ]
    }
   ],
   "source": [
    "print(w,b)"
   ]
  },
  {
   "cell_type": "markdown",
   "metadata": {},
   "source": [
    "## 4. XNOR Gate"
   ]
  },
  {
   "cell_type": "code",
   "execution_count": 72,
   "metadata": {},
   "outputs": [],
   "source": [
    "def XNOR(lr,number_of_iter = 100):\n",
    "    x = np.array([[0,0],[0,1],[1,0],[1,1]]).T # all possible values of x\n",
    "    y = np.array([[1],[0],[0],[1]]).T         # and their outputs\n",
    "    m = len(y[0])\n",
    "    w1 = np.random.rand(x.shape[0],2) # I layer: 2 neurons \n",
    "    w2 = np.random.rand(x.shape[0],1) # II layer: 1 neuron\n",
    "    b1 = np.zeros((x.shape[0],1))\n",
    "    b2 = 0 #np.zeros((1,1))\n",
    "    for i in range(number_of_iter+1) :\n",
    "        z1 = np.dot(w1.T,x) + b1 # first layer computation\n",
    "        h_theta1 = sigmoid(z1)\n",
    "        z2 = np.dot(w2.T,h_theta1) + b2 # second layer computation\n",
    "        h_theta2 = sigmoid(z2)\n",
    "        cost = (-1/m) * np.sum(y*np.log(h_theta2) + (1-y)*np.log(1-h_theta2))\n",
    "        \n",
    "        dz =  (h_theta2-y)\n",
    "        \n",
    "        dw2 = (1/m) * np.dot(h_theta1,dz.T)\n",
    "        db2 = (1/m) * np.sum(dz)\n",
    "        \n",
    "        w2 = w2 - lr*dw2\n",
    "        b2 = b2 - lr*db2\n",
    "        \n",
    "        dz_ = np.multiply(np.dot(w2,dz) , np.multiply(h_theta1,(1-h_theta1)))\n",
    "        \n",
    "        dw1 = (1/m) * np.dot(x,dz_.T)\n",
    "        db1 = (1/m) * np.sum(dz_,axis = 1 , keepdims = True)\n",
    "        \n",
    "        \n",
    "        w1 = w1 - lr*dw1.T\n",
    "        b1 = b1 - lr*db1\n",
    "        if i % 1000 == 0 :\n",
    "            print('cost after',i,'th iteration:',cost)\n",
    "\n",
    "    #print(dw1.shape,dw2.shape)\n",
    "    return w1,b1,w2,b2"
   ]
  },
  {
   "cell_type": "code",
   "execution_count": 76,
   "metadata": {},
   "outputs": [
    {
     "name": "stdout",
     "output_type": "stream",
     "text": [
      "cost after 0 th iteration: 0.7315857179704915\n",
      "cost after 1000 th iteration: 0.35853896537038904\n",
      "cost after 2000 th iteration: 0.3558147942093679\n",
      "cost after 3000 th iteration: 0.0026191602361320438\n",
      "cost after 4000 th iteration: 0.0012544007144197947\n",
      "cost after 5000 th iteration: 0.0008474543282830373\n",
      "cost after 6000 th iteration: 0.0006429396883749268\n",
      "cost after 7000 th iteration: 0.000518851140477359\n",
      "cost after 8000 th iteration: 0.00043528285868561935\n",
      "cost after 9000 th iteration: 0.00037508277559106994\n",
      "cost after 10000 th iteration: 0.00032961303438220913\n",
      "cost after 11000 th iteration: 0.00029403762948536876\n",
      "cost after 12000 th iteration: 0.00026543375294641337\n",
      "cost after 13000 th iteration: 0.00024192910550700498\n",
      "cost after 14000 th iteration: 0.00022226806929595832\n",
      "cost after 15000 th iteration: 0.00020557674809423517\n",
      "cost after 16000 th iteration: 0.00019122795463223546\n",
      "cost after 17000 th iteration: 0.00017875977867247214\n",
      "cost after 18000 th iteration: 0.00016782444461026268\n",
      "cost after 19000 th iteration: 0.00015815507058549453\n",
      "cost after 20000 th iteration: 0.00014954341589331114\n",
      "cost after 21000 th iteration: 0.00014182459711647755\n",
      "cost after 22000 th iteration: 0.00013486635143006802\n",
      "cost after 23000 th iteration: 0.00012856134228297864\n",
      "cost after 24000 th iteration: 0.0001228215464066758\n",
      "cost after 25000 th iteration: 0.00011757409325870796\n",
      "cost after 26000 th iteration: 0.00011275813630279112\n",
      "cost after 27000 th iteration: 0.00010832246926241333\n",
      "cost after 28000 th iteration: 0.00010422368818998293\n",
      "cost after 29000 th iteration: 0.0001004247588296084\n",
      "cost after 30000 th iteration: 9.689388864940566e-05\n",
      "cost after 31000 th iteration: 9.360363050454722e-05\n",
      "cost after 32000 th iteration: 9.053016424729048e-05\n",
      "cost after 33000 th iteration: 8.76527163719668e-05\n",
      "cost after 34000 th iteration: 8.495308769664262e-05\n",
      "cost after 35000 th iteration: 8.241526631563882e-05\n",
      "cost after 36000 th iteration: 8.002510837851171e-05\n",
      "cost after 37000 th iteration: 7.7770073217381e-05\n",
      "cost after 38000 th iteration: 7.563900232058757e-05\n",
      "cost after 39000 th iteration: 7.362193390877013e-05\n",
      "cost after 40000 th iteration: 7.170994659591969e-05\n"
     ]
    }
   ],
   "source": [
    "w1,b1,w2,b2 = XNOR(4,40000) # due to random function the results may vary everytime !!"
   ]
  },
  {
   "cell_type": "code",
   "execution_count": 77,
   "metadata": {},
   "outputs": [
    {
     "name": "stdout",
     "output_type": "stream",
     "text": [
      "[[11.50162245  4.84038567]\n",
      " [64.08074015  6.32499954]] [[-5.53851509]\n",
      " [-8.92618649]] [[-20.27409612]\n",
      " [ 22.42309581]] 9.500052023402105\n"
     ]
    }
   ],
   "source": [
    " print(w1,b1,w2,b2)"
   ]
  },
  {
   "cell_type": "code",
   "execution_count": 81,
   "metadata": {},
   "outputs": [],
   "source": [
    "answer = sigmoid(np.dot(w2.T,sigmoid(np.dot(w1.T,np.array([[0,0],[0,1],[1,0],[1,1]]).T) + b1)) + b2)"
   ]
  },
  {
   "cell_type": "code",
   "execution_count": 84,
   "metadata": {},
   "outputs": [
    {
     "name": "stdout",
     "output_type": "stream",
     "text": [
      "[[1. 0. 0. 1.]]\n"
     ]
    }
   ],
   "source": [
    "print(np.round(answer))"
   ]
  },
  {
   "cell_type": "code",
   "execution_count": 85,
   "metadata": {},
   "outputs": [
    {
     "name": "stdout",
     "output_type": "stream",
     "text": [
      "[[9.99919213e-01 9.84898363e-05 3.19488922e-05 9.99924405e-01]]\n"
     ]
    }
   ],
   "source": [
    "print(answer)"
   ]
  }
 ],
 "metadata": {
  "kernelspec": {
   "display_name": "Python 3",
   "language": "python",
   "name": "python3"
  },
  "language_info": {
   "codemirror_mode": {
    "name": "ipython",
    "version": 3
   },
   "file_extension": ".py",
   "mimetype": "text/x-python",
   "name": "python",
   "nbconvert_exporter": "python",
   "pygments_lexer": "ipython3",
   "version": "3.7.6"
  }
 },
 "nbformat": 4,
 "nbformat_minor": 4
}
