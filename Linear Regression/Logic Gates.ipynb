{
 "cells": [
  {
   "cell_type": "markdown",
   "metadata": {},
   "source": [
    "## 1. AND Gate : "
   ]
  },
  {
   "cell_type": "code",
   "execution_count": 1,
   "metadata": {},
   "outputs": [],
   "source": [
    "import numpy as np\n",
    "def sigmoid(x):\n",
    "    return 1/(1+np.exp(-x))"
   ]
  },
  {
   "cell_type": "code",
   "execution_count": 2,
   "metadata": {},
   "outputs": [],
   "source": [
    "def AND(lr,number_of_iter = 100):\n",
    "    x = np.array([[0,0],[0,1],[1,0],[1,1]]).T # all possible values of x\n",
    "    y = np.array([[0],[0],[0],[1]]).T\n",
    "    m = len(y[0])\n",
    "    w = np.zeros((x.shape[0],1))\n",
    "    b = 0\n",
    "    for i in range(number_of_iter+1) :\n",
    "        z = np.dot(w.T,x) + b \n",
    "        h_theta = sigmoid(z)\n",
    "        cost = (-1/m) * np.sum( y*np.log(h_theta) + (1-y)*np.log(1-h_theta) )\n",
    "        dz =  (h_theta-y)\n",
    "        dw = (1/m) * np.dot(x,dz.T)\n",
    "        db = (1/m) * np.sum(dz)\n",
    "        w = w - lr*dw\n",
    "        b = b - lr*db\n",
    "        if i % 10 == 0 :\n",
    "            print('cost after',i,'th iteration:',cost)\n",
    "    return w,b"
   ]
  },
  {
   "cell_type": "code",
   "execution_count": 3,
   "metadata": {},
   "outputs": [
    {
     "name": "stdout",
     "output_type": "stream",
     "text": [
      "cost after 0 th iteration: 0.6931471805599453\n",
      "cost after 10 th iteration: 3.398826362959129e-05\n",
      "cost after 20 th iteration: 3.389091071982835e-05\n",
      "cost after 30 th iteration: 3.3798325518402846e-05\n",
      "cost after 40 th iteration: 3.371003070295256e-05\n",
      "cost after 50 th iteration: 3.3625598267325455e-05\n",
      "cost after 60 th iteration: 3.354464441281246e-05\n",
      "cost after 70 th iteration: 3.346682497461511e-05\n",
      "cost after 80 th iteration: 3.3391831325921194e-05\n",
      "cost after 90 th iteration: 3.331938670681965e-05\n",
      "cost after 100 th iteration: 3.3249242934473854e-05\n"
     ]
    },
    {
     "name": "stderr",
     "output_type": "stream",
     "text": [
      "C:\\Users\\shaur\\anaconda3\\lib\\site-packages\\ipykernel_launcher.py:10: RuntimeWarning: divide by zero encountered in log\n",
      "  # Remove the CWD from sys.path while we load stuff.\n",
      "C:\\Users\\shaur\\anaconda3\\lib\\site-packages\\ipykernel_launcher.py:10: RuntimeWarning: invalid value encountered in multiply\n",
      "  # Remove the CWD from sys.path while we load stuff.\n"
     ]
    }
   ],
   "source": [
    "w,b = AND(80)"
   ]
  },
  {
   "cell_type": "code",
   "execution_count": 4,
   "metadata": {},
   "outputs": [
    {
     "name": "stdout",
     "output_type": "stream",
     "text": [
      "[[20.00649809]\n",
      " [20.00649809]] -30.078303748769954\n"
     ]
    }
   ],
   "source": [
    "print(w,b)"
   ]
  },
  {
   "cell_type": "markdown",
   "metadata": {},
   "source": [
    "## 2. OR Gate "
   ]
  },
  {
   "cell_type": "code",
   "execution_count": 5,
   "metadata": {},
   "outputs": [],
   "source": [
    "def OR(lr,number_of_iter = 100):\n",
    "    x = np.array([[0,0],[0,1],[1,0],[1,1]]).T # all possible values of x\n",
    "    y = np.array([[0],[1],[1],[1]]).T\n",
    "    m = len(y[0])\n",
    "    w = np.zeros((x.shape[0],1))\n",
    "    b = 0\n",
    "    for i in range(number_of_iter+1) :\n",
    "        z = np.dot(w.T,x) + b \n",
    "        h_theta = sigmoid(z)\n",
    "        cost = (-1/m) * np.sum( y*np.log(h_theta) + (1-y)*np.log(1-h_theta) )\n",
    "        dz =  (h_theta-y)\n",
    "        dw = (1/m) * np.dot(x,dz.T)\n",
    "        db = (1/m) * np.sum(dz)\n",
    "        w = w - lr*dw\n",
    "        b = b - lr*db\n",
    "        if i % 10 == 0 :\n",
    "            print('cost after',i,'th iteration:',cost)\n",
    "    return w,b"
   ]
  },
  {
   "cell_type": "code",
   "execution_count": 6,
   "metadata": {},
   "outputs": [
    {
     "name": "stdout",
     "output_type": "stream",
     "text": [
      "cost after 0 th iteration: 0.6931471805599453\n",
      "cost after 10 th iteration: 3.383654099589471e-05\n",
      "cost after 20 th iteration: 3.354624793580835e-05\n",
      "cost after 30 th iteration: 3.327069966676072e-05\n",
      "cost after 40 th iteration: 3.300877640550772e-05\n",
      "cost after 50 th iteration: 3.275945912975126e-05\n",
      "cost after 60 th iteration: 3.25218189851724e-05\n",
      "cost after 70 th iteration: 3.229500798359724e-05\n",
      "cost after 80 th iteration: 3.207825081210812e-05\n",
      "cost after 90 th iteration: 3.1870837601727585e-05\n",
      "cost after 100 th iteration: 3.167211752834262e-05\n"
     ]
    },
    {
     "name": "stderr",
     "output_type": "stream",
     "text": [
      "C:\\Users\\shaur\\anaconda3\\lib\\site-packages\\ipykernel_launcher.py:10: RuntimeWarning: divide by zero encountered in log\n",
      "  # Remove the CWD from sys.path while we load stuff.\n",
      "C:\\Users\\shaur\\anaconda3\\lib\\site-packages\\ipykernel_launcher.py:10: RuntimeWarning: invalid value encountered in multiply\n",
      "  # Remove the CWD from sys.path while we load stuff.\n"
     ]
    }
   ],
   "source": [
    "w,b = OR(80)"
   ]
  },
  {
   "cell_type": "code",
   "execution_count": 7,
   "metadata": {},
   "outputs": [
    {
     "name": "stdout",
     "output_type": "stream",
     "text": [
      "[[20.08221824]\n",
      " [20.08221824]] -9.92803564092803\n"
     ]
    }
   ],
   "source": [
    "print(w,b)"
   ]
  },
  {
   "cell_type": "markdown",
   "metadata": {},
   "source": [
    "## 3. NOT Gate"
   ]
  },
  {
   "cell_type": "code",
   "execution_count": 8,
   "metadata": {},
   "outputs": [],
   "source": [
    "def NOT(lr,number_of_iter = 100):\n",
    "    x = np.array([[0],[1]]).T # all possible values of x\n",
    "    y = np.array([[1],[0]]).T\n",
    "    m = len(y[0])\n",
    "    w = np.zeros((x.shape[0],1))\n",
    "    b = 0\n",
    "    for i in range(number_of_iter+1) :\n",
    "        z = np.dot(w.T,x) + b \n",
    "        h_theta = sigmoid(z)\n",
    "        cost = (-1/m) * np.sum( y*np.log(h_theta) + (1-y)*np.log(1-h_theta) )\n",
    "        dz =  (h_theta-y)\n",
    "        dw = (1/m) * np.dot(x,dz.T)\n",
    "        db = (1/m) * np.sum(dz)\n",
    "        w = w - lr*dw\n",
    "        b = b - lr*db\n",
    "        if i % 10 == 0 :\n",
    "            print('cost after',i,'th iteration:',cost)\n",
    "    return w,b"
   ]
  },
  {
   "cell_type": "code",
   "execution_count": 9,
   "metadata": {},
   "outputs": [
    {
     "name": "stdout",
     "output_type": "stream",
     "text": [
      "cost after 0 th iteration: 0.6931471805599453\n",
      "cost after 10 th iteration: 1.6716639700418993e-05\n",
      "cost after 20 th iteration: 1.6687016561867693e-05\n",
      "cost after 30 th iteration: 1.6657590050576013e-05\n",
      "cost after 40 th iteration: 1.6628356814733112e-05\n",
      "cost after 50 th iteration: 1.6599313584965193e-05\n",
      "cost after 60 th iteration: 1.6570457171559817e-05\n",
      "cost after 70 th iteration: 1.6541784462633974e-05\n",
      "cost after 80 th iteration: 1.651329242169148e-05\n",
      "cost after 90 th iteration: 1.648497808540246e-05\n",
      "cost after 100 th iteration: 1.6456838561382794e-05\n"
     ]
    }
   ],
   "source": [
    "w,b = NOT(44)"
   ]
  },
  {
   "cell_type": "code",
   "execution_count": 10,
   "metadata": {},
   "outputs": [
    {
     "name": "stdout",
     "output_type": "stream",
     "text": [
      "[[-22.03088187]] 10.983522924950247\n"
     ]
    }
   ],
   "source": [
    "print(w,b)"
   ]
  },
  {
   "cell_type": "markdown",
   "metadata": {},
   "source": [
    "## 4. XNOR Gate"
   ]
  },
  {
   "cell_type": "code",
   "execution_count": 36,
   "metadata": {},
   "outputs": [],
   "source": [
    "def XNOR(lr,number_of_iter = 100):\n",
    "    x = np.array([[0,0],[0,1],[1,0],[1,1]]).T # all possible values of x\n",
    "    y = np.array([[1],[0],[0],[1]]).T         # and their outputs\n",
    "    m = len(y[0])\n",
    "    w1 = np.random.rand(x.shape[0],2)*0.01 # I layer: 2 neurons \n",
    "    w2 = np.random.rand(x.shape[0],1)*0.01 # II layer: 1 neuron\n",
    "    b1 = np.zeros((x.shape[0],1))\n",
    "    b2 = 0\n",
    "    for i in range(number_of_iter+1) :\n",
    "        z1 = np.dot(w1.T,x) + b1 # first layer computation\n",
    "        h_theta1 = sigmoid(z1)\n",
    "        z2 = np.dot(w2.T,h_theta1) + b2 # second layer computation\n",
    "        h_theta2 = sigmoid(z2)\n",
    "        cost = (-1/m) * np.sum(y*np.log(h_theta2) + (1-y)*np.log(1-h_theta2))\n",
    "        \n",
    "        dz =  (h_theta2-y)\n",
    "        \n",
    "        dw2 = (1/m) * np.dot(h_theta1,dz.T)\n",
    "        db2 = (1/m) * np.sum(dz)\n",
    "        \n",
    "        dz_ = np.dot(w2,dz) * np.multiply(h_theta1,(1-h_theta1))\n",
    "        \n",
    "        dw1 = (1/m) * np.dot(x,dz_.T)\n",
    "        db1 = (1/m) * np.sum(dz_,axis = 1 , keepdims = True)\n",
    "        \n",
    "        w2 = w2 - lr*dw2\n",
    "        b2 = b2 - lr*db2\n",
    "        w1 = w1 - lr*dw1.T\n",
    "        b1 = b1 - lr*db1\n",
    "        if i % 10000 == 0 :\n",
    "            print('cost after',i,'th iteration:',cost)\n",
    "\n",
    "    print(dw1.shape,dw2.shape)\n",
    "    return w1,b1,w2,b2"
   ]
  },
  {
   "cell_type": "code",
   "execution_count": 38,
   "metadata": {},
   "outputs": [
    {
     "name": "stdout",
     "output_type": "stream",
     "text": [
      "cost after 0 th iteration: 0.6931537704152507\n",
      "cost after 1000 th iteration: 0.6931471841345792\n",
      "cost after 2000 th iteration: 0.6931471805784164\n",
      "cost after 3000 th iteration: 0.6931471805764958\n",
      "cost after 4000 th iteration: 0.6931471805764945\n",
      "cost after 5000 th iteration: 0.6931471805764938\n",
      "cost after 6000 th iteration: 0.6931471805764935\n",
      "cost after 7000 th iteration: 0.6931471805764929\n",
      "cost after 8000 th iteration: 0.6931471805764924\n",
      "cost after 9000 th iteration: 0.693147180576492\n",
      "cost after 10000 th iteration: 0.6931471805764914\n",
      "cost after 11000 th iteration: 0.6931471805764909\n",
      "cost after 12000 th iteration: 0.6931471805764904\n",
      "cost after 13000 th iteration: 0.6931471805764899\n",
      "cost after 14000 th iteration: 0.6931471805764895\n",
      "cost after 15000 th iteration: 0.693147180576489\n",
      "cost after 16000 th iteration: 0.6931471805764884\n",
      "cost after 17000 th iteration: 0.6931471805764879\n",
      "cost after 18000 th iteration: 0.6931471805764875\n",
      "cost after 19000 th iteration: 0.693147180576487\n",
      "cost after 20000 th iteration: 0.6931471805764866\n",
      "cost after 21000 th iteration: 0.693147180576486\n",
      "cost after 22000 th iteration: 0.6931471805764855\n",
      "cost after 23000 th iteration: 0.6931471805764852\n",
      "cost after 24000 th iteration: 0.6931471805764846\n",
      "cost after 25000 th iteration: 0.6931471805764842\n",
      "cost after 26000 th iteration: 0.6931471805764836\n",
      "cost after 27000 th iteration: 0.6931471805764831\n",
      "cost after 28000 th iteration: 0.6931471805764826\n",
      "cost after 29000 th iteration: 0.6931471805764822\n",
      "cost after 30000 th iteration: 0.6931471805764817\n",
      "cost after 31000 th iteration: 0.6931471805764812\n",
      "cost after 32000 th iteration: 0.6931471805764807\n",
      "cost after 33000 th iteration: 0.6931471805764802\n",
      "cost after 34000 th iteration: 0.6931471805764797\n",
      "cost after 35000 th iteration: 0.6931471805764792\n",
      "cost after 36000 th iteration: 0.6931471805764786\n",
      "cost after 37000 th iteration: 0.6931471805764783\n",
      "cost after 38000 th iteration: 0.693147180576478\n",
      "cost after 39000 th iteration: 0.6931471805764773\n",
      "cost after 40000 th iteration: 0.6931471805764768\n",
      "cost after 41000 th iteration: 0.6931471805764764\n",
      "cost after 42000 th iteration: 0.6931471805764757\n",
      "cost after 43000 th iteration: 0.6931471805764753\n",
      "cost after 44000 th iteration: 0.6931471805764748\n",
      "cost after 45000 th iteration: 0.6931471805764743\n",
      "cost after 46000 th iteration: 0.693147180576474\n",
      "cost after 47000 th iteration: 0.6931471805764734\n",
      "cost after 48000 th iteration: 0.693147180576473\n",
      "cost after 49000 th iteration: 0.6931471805764724\n",
      "cost after 50000 th iteration: 0.693147180576472\n",
      "cost after 51000 th iteration: 0.6931471805764715\n",
      "cost after 52000 th iteration: 0.693147180576471\n",
      "cost after 53000 th iteration: 0.6931471805764705\n",
      "cost after 54000 th iteration: 0.6931471805764701\n",
      "cost after 55000 th iteration: 0.6931471805764695\n",
      "cost after 56000 th iteration: 0.693147180576469\n",
      "cost after 57000 th iteration: 0.6931471805764685\n",
      "cost after 58000 th iteration: 0.693147180576468\n",
      "cost after 59000 th iteration: 0.6931471805764675\n",
      "cost after 60000 th iteration: 0.693147180576467\n",
      "cost after 61000 th iteration: 0.6931471805764664\n",
      "cost after 62000 th iteration: 0.6931471805764661\n",
      "cost after 63000 th iteration: 0.6931471805764655\n",
      "cost after 64000 th iteration: 0.6931471805764651\n",
      "cost after 65000 th iteration: 0.6931471805764646\n",
      "cost after 66000 th iteration: 0.6931471805764642\n",
      "cost after 67000 th iteration: 0.6931471805764636\n",
      "cost after 68000 th iteration: 0.6931471805764632\n",
      "cost after 69000 th iteration: 0.6931471805764626\n",
      "cost after 70000 th iteration: 0.6931471805764623\n",
      "cost after 71000 th iteration: 0.6931471805764616\n",
      "cost after 72000 th iteration: 0.6931471805764612\n",
      "cost after 73000 th iteration: 0.6931471805764607\n",
      "cost after 74000 th iteration: 0.6931471805764602\n",
      "cost after 75000 th iteration: 0.6931471805764597\n",
      "cost after 76000 th iteration: 0.6931471805764593\n",
      "cost after 77000 th iteration: 0.6931471805764587\n",
      "cost after 78000 th iteration: 0.6931471805764582\n",
      "cost after 79000 th iteration: 0.6931471805764577\n",
      "cost after 80000 th iteration: 0.6931471805764572\n",
      "cost after 81000 th iteration: 0.6931471805764569\n",
      "cost after 82000 th iteration: 0.6931471805764563\n",
      "cost after 83000 th iteration: 0.6931471805764559\n",
      "cost after 84000 th iteration: 0.6931471805764553\n",
      "cost after 85000 th iteration: 0.6931471805764549\n",
      "cost after 86000 th iteration: 0.6931471805764544\n",
      "cost after 87000 th iteration: 0.693147180576454\n",
      "cost after 88000 th iteration: 0.6931471805764534\n",
      "cost after 89000 th iteration: 0.6931471805764529\n",
      "cost after 90000 th iteration: 0.6931471805764524\n",
      "cost after 91000 th iteration: 0.6931471805764519\n",
      "cost after 92000 th iteration: 0.6931471805764515\n",
      "cost after 93000 th iteration: 0.693147180576451\n",
      "cost after 94000 th iteration: 0.6931471805764505\n",
      "cost after 95000 th iteration: 0.69314718057645\n",
      "cost after 96000 th iteration: 0.6931471805764494\n",
      "cost after 97000 th iteration: 0.693147180576449\n",
      "cost after 98000 th iteration: 0.6931471805764484\n",
      "cost after 99000 th iteration: 0.6931471805764481\n",
      "cost after 100000 th iteration: 0.6931471805764476\n",
      "(2, 2) (2, 1)\n"
     ]
    }
   ],
   "source": [
    "w1,b1,w2,b2 = XNOR(0.01,100000)"
   ]
  },
  {
   "cell_type": "code",
   "execution_count": 27,
   "metadata": {},
   "outputs": [
    {
     "name": "stdout",
     "output_type": "stream",
     "text": [
      "[[-11.77482544 -11.70388905]\n",
      " [-11.77482543 -11.70388909]] [[0.72281399]\n",
      " [0.67010554]] [[8.029815  ]\n",
      " [7.86092036]] -0.6932423854228871\n"
     ]
    }
   ],
   "source": [
    " print(w1,b1,w2,b2)"
   ]
  },
  {
   "cell_type": "code",
   "execution_count": 140,
   "metadata": {},
   "outputs": [
    {
     "name": "stdout",
     "output_type": "stream",
     "text": [
      "[[0.42099792 0.02803407]\n",
      " [0.10815632 0.22080518]]\n"
     ]
    }
   ],
   "source": [
    "print(a)"
   ]
  }
 ],
 "metadata": {
  "kernelspec": {
   "display_name": "Python 3",
   "language": "python",
   "name": "python3"
  },
  "language_info": {
   "codemirror_mode": {
    "name": "ipython",
    "version": 3
   },
   "file_extension": ".py",
   "mimetype": "text/x-python",
   "name": "python",
   "nbconvert_exporter": "python",
   "pygments_lexer": "ipython3",
   "version": "3.7.6"
  }
 },
 "nbformat": 4,
 "nbformat_minor": 4
}
