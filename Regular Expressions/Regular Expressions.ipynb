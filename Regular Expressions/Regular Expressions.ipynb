{
 "cells": [
  {
   "cell_type": "markdown",
   "metadata": {},
   "source": [
    "# Working with Regular Expressions : \n",
    "### Regular Expressions are used to find specific text from the data like we use strings but they work faster and use less space to work thus a perfect tool for text extraction\n",
    "Like if the string was very long then using some space to iterate over the data can take a lot of space and we require very little in case of regular expressions \n",
    "Basic command tools used for the purpose are (for using in command line) : \n",
    "i)Grep\n",
    "ii)Sed\n",
    "iii)Awk\n",
    "##### Note : in Windows findall command is used in place of the above three\n",
    "##### In Python re module does the same for us "
   ]
  },
  {
   "cell_type": "code",
   "execution_count": 14,
   "metadata": {},
   "outputs": [
    {
     "name": "stdout",
     "output_type": "stream",
     "text": [
      "<re.Match object; span=(2, 5), match='aza'>\n",
      "<re.Match object; span=(1, 4), match='aza'>\n",
      "None\n",
      "<re.Match object; span=(0, 1), match='x'>\n",
      "None\n",
      "<re.Match object; span=(0, 4), match='peng'>\n",
      "<re.Match object; span=(0, 4), match='pong'>\n",
      "<re.Match object; span=(0, 4), match='Peng'>\n",
      "<re.Match object; span=(0, 6), match='Python'>\n",
      "<re.Match object; span=(18, 22), match='hway'>\n",
      "None\n",
      "<re.Match object; span=(0, 6), match='cloudy'>\n"
     ]
    }
   ],
   "source": [
    "import re # to import the re module used in python for regular expressions \n",
    "# basic word matching using re :\n",
    "# r\"\" signifies sending raw string to the re module i.e. interpreter won't interpret any special characters\n",
    "result = re.search(r\"aza\",\"plaza\")\n",
    "print(result)\n",
    "print(re.search(r\"aza\",\"bazaar\"))\n",
    "print(re.search(r\"aza\",\"maze\"))\n",
    "\n",
    "# we use '^' to compare string in start of the line ** only the start is compared : \n",
    "print(re.search(r\"^x\",\"xenon\"))\n",
    "print(re.search(r\"^x\",\"mexico xylo xenon\"))\n",
    "\n",
    "# we use'.' to match any character in between : \n",
    "print(re.search(r\"p.ng\",\"penguin\"))\n",
    "print(re.search(r\"p.ng\",\"ponging\"))\n",
    "            ## if we want to ignore lower upper case : \n",
    "print(re.search(r\"p.ng\",\"Penguin\",re.IGNORECASE))\n",
    "\n",
    "# if we have a list of characters to compare to we include them in a [] so re selects any one of them we also inclide range\n",
    "# for ease of use : \n",
    "print(re.search(r\"[Pp]ython\",\"Python python\")) # also it selects the first one found \n",
    "print(re.search(r\"[a-z]way\",\"the end of the highway\")) # selects from the range a-z\n",
    "print(re.search(r\"[a-z]way\",\"the end of the way\")) # none because we don't have any letter b/w a-z before way  \n",
    "print(re.search(r\"cloud[a-zA-Z0-9]\",\"cloudy\")) # for a range of values (All are taken from ASCII)"
   ]
  },
  {
   "cell_type": "code",
   "execution_count": 15,
   "metadata": {},
   "outputs": [
    {
     "name": "stdout",
     "output_type": "stream",
     "text": [
      "True\n"
     ]
    }
   ],
   "source": [
    "# code to check if some text passed contains punctuations : \n",
    "def check_punctuation(text):\n",
    "    result = re.search(r\"[,.:!?;]\",text)\n",
    "    return result!= None\n",
    "print(check_punctuation(\"this sentence ends with .\"))"
   ]
  },
  {
   "cell_type": "code",
   "execution_count": 22,
   "metadata": {},
   "outputs": [
    {
     "name": "stdout",
     "output_type": "stream",
     "text": [
      "<re.Match object; span=(4, 5), match=' '>\n",
      "<re.Match object; span=(5, 6), match='.'>\n",
      "<re.Match object; span=(7, 10), match='dog'>\n",
      "<re.Match object; span=(7, 10), match='dog'>\n",
      "<re.Match object; span=(7, 10), match='cat'>\n",
      "['cat', 'dog']\n"
     ]
    }
   ],
   "source": [
    "# if we want to search for an element not in the group then use ^ at start of [] (inside it) as [^]\n",
    "print(re.search(r\"[^a-zA-Z]\",\"this \")) # space was the first text inside it that didn't comprise of a-zA-Z range\n",
    "print(re.search(r\"[^a-zA-Z ]\",\"this .\"))\n",
    "\n",
    "# if we want to match either expression we use '|' : \n",
    "print(re.search(r\"cat|dog\",\"I like dogs\"))\n",
    "print(re.search(r\"cat|dog\",\"I like doggies\")) # also look in this example that it extracts only the dog part from it\n",
    "print(re.search(r\"cat|dog\",\"I like cats and dogs\")) # here also the first found one is returned \n",
    "\n",
    "# if we want to find all the stings for the pattern defined by us we use findall funtion as : \n",
    "print(re.findall(r\"cat|dog\",\"I like cats and dogs\")) # though we don't get their position "
   ]
  },
  {
   "cell_type": "markdown",
   "metadata": {},
   "source": [
    "### Repetition Qualifiers : \n",
    "to find the word that repeat a specific pattern we use * after that part of pattern to specify that we want to find till the that part of pattern is present "
   ]
  },
  {
   "cell_type": "code",
   "execution_count": 31,
   "metadata": {},
   "outputs": [
    {
     "name": "stdout",
     "output_type": "stream",
     "text": [
      "<re.Match object; span=(0, 9), match='Pygmalion'>\n",
      "<re.Match object; span=(0, 17), match='Python Programmin'>\n",
      "<re.Match object; span=(0, 6), match='Python'>\n",
      "<re.Match object; span=(0, 3), match='Pyn'>\n",
      "None\n",
      "<re.Match object; span=(1, 3), match='ol'>\n",
      "<re.Match object; span=(0, 3), match='ooo'>\n",
      "<re.Match object; span=(1, 5), match='ooll'>\n"
     ]
    }
   ],
   "source": [
    "print(re.search(r\"Py.*n\",\"Pygmalion\")) # now it repeats part . till it start withs Py and ends with n \n",
    "# but ...\n",
    "print(re.search(r\"Py.*n\",\"Python Programming\")) # in this case it finds the longest string till it finds 'n'\n",
    "# to avoid the space we can : \n",
    "print(re.search(r\"Py[a-z]*n\",\"Python Programming\"))\n",
    "#** in repetition 0 is also considered so if string contains Pyn then also it will work since that would be zero repetition\n",
    "print(re.search(r\"Py[a-z]*n\",\"Pyn\")) # whereas..\n",
    "print(re.search(r\"Py[a-z]n\",\"Pyn\")) # ! gives None since a not a repetiton \n",
    "\n",
    "# to overcome this issue of 0 repetition we have '+' operator that repeats the given pattern part till not found \n",
    "# \"o+\" checks for continous 'o' occurences\n",
    "print(re.search(r\"o+l+\",\"goldfish\"))\n",
    "print(re.search(r\"o+\",\"ooolaoooooola\")) # again only checks the first repeated occurence of 'o'\n",
    "print(re.search(r\"o+l+\",\"woolly\"))"
   ]
  },
  {
   "cell_type": "markdown",
   "metadata": {},
   "source": [
    "## To check for optional occurence of a character we use '?' as : "
   ]
  },
  {
   "cell_type": "code",
   "execution_count": 34,
   "metadata": {},
   "outputs": [
    {
     "name": "stdout",
     "output_type": "stream",
     "text": [
      "<re.Match object; span=(3, 7), match='each'>\n",
      "<re.Match object; span=(0, 5), match='peach'>\n",
      "<re.Match object; span=(10, 14), match='.com'>\n"
     ]
    }
   ],
   "source": [
    "print(re.search(r\"p?each\",\"To each\")) # optional to check for 'p'\n",
    "print(re.search(r\"p?each\",\"peach\")) # here p was present so it works well \n",
    "\n",
    "# to check for special sequence characters like ? ^ . * [ ( { } ) ]  we use \\ before these characters : \n",
    "print(re.search(r\"\\.com\",\"helloworld.com\"))"
   ]
  },
  {
   "cell_type": "markdown",
   "metadata": {},
   "source": [
    "## Special charaters for comparison: \n",
    "### 1) \\w - Compares alphbets,numbers and '_' thus all alphanumeric \n",
    "### 2) \\d - all digits only \n",
    "### 3) \\s - all whitespace characters like space,tab,newline"
   ]
  },
  {
   "cell_type": "code",
   "execution_count": 37,
   "metadata": {},
   "outputs": [
    {
     "name": "stdout",
     "output_type": "stream",
     "text": [
      "<re.Match object; span=(0, 4), match='this'>\n",
      "<re.Match object; span=(0, 18), match='this_is_a_number_9'>\n"
     ]
    }
   ],
   "source": [
    "print(re.search(r\"\\w*\",\"this is\")) # matches any alphanumeric before space\n",
    "print(re.search(r\"\\w*\",\"this_is_a_number_9\"))"
   ]
  },
  {
   "cell_type": "code",
   "execution_count": 39,
   "metadata": {},
   "outputs": [
    {
     "name": "stdout",
     "output_type": "stream",
     "text": [
      "False\n",
      "True\n"
     ]
    }
   ],
   "source": [
    "# Code to check if given string has atleast 2 groups of alphanumeric characters separated by one or more whitespace characters:\n",
    "\n",
    "def check_character_groups(test):\n",
    "    result = re.search(r\"\\w+\\s+\\w+\",test)\n",
    "    return result != None\n",
    "print(check_character_groups(\"one\"))\n",
    "print(check_character_groups(\"123 Ready Set Go\"))\n",
    "\n",
    "\n",
    "#### For checking your knowledge in Regular Expression use this site : regex101.com"
   ]
  },
  {
   "cell_type": "code",
   "execution_count": 44,
   "metadata": {},
   "outputs": [
    {
     "name": "stdout",
     "output_type": "stream",
     "text": [
      "<re.Match object; span=(0, 9), match='Argentina'>\n",
      "<re.Match object; span=(0, 6), match='Azerba'>\n",
      "None\n",
      "<re.Match object; span=(0, 9), match='Argentina'>\n"
     ]
    }
   ],
   "source": [
    "# Now suppose we want to check if a word starts with A and ends with a : \n",
    "print(re.search(r\"A[b-z]*a\",\"Argentina\")) # this works but ...\n",
    "print(re.search(r\"A[b-z]*a\",\"Azerbaijan\")) # not the string we needed as 'a' was in the middle of it \n",
    "\n",
    "# to solve this issue we have '$' such that when put after the term gives us the string ending with that term : \n",
    "print(re.search(r\"A[b-z]*a$\",\"Azerbaijan\")) # clearly it works as the word should end with 'a' \n",
    "print(re.search(r\"A[b-z]*a$\",\"Argentina\"))"
   ]
  },
  {
   "cell_type": "code",
   "execution_count": 45,
   "metadata": {},
   "outputs": [
    {
     "name": "stdout",
     "output_type": "stream",
     "text": [
      "False\n",
      "True\n"
     ]
    }
   ],
   "source": [
    "# code to check if variable name is valid or not (in python,c++,java - following the rules):\n",
    "def check_valid_name(text):\n",
    "    pattern = r\"^[a-zA-Z_][a-zA-Z0-9_]*$\" # as variable shoub start with alphabet or _ then it may follow the same + numbers as well also the number and\n",
    "                                          # it types should end with such characters so $ at the end!\n",
    "    result = re.search(pattern,text)\n",
    "    return result!=None\n",
    "\n",
    "print(check_valid_name(\"This is valid\"))\n",
    "print(check_valid_name(\"This_is_valid\"))\n"
   ]
  },
  {
   "cell_type": "markdown",
   "metadata": {},
   "source": [
    "## Capturing Groups : \n",
    "### Used to capture all the groups following the pattern we gave to follow ( group is formed by enclosing in ( ) )\n",
    "#### Ques- given names with format \"lastname, firstname\" return the string with format \"firstname lastname\" Example - Lovelace, Ada --> Ada Lovelace"
   ]
  },
  {
   "cell_type": "code",
   "execution_count": 51,
   "metadata": {},
   "outputs": [
    {
     "name": "stdout",
     "output_type": "stream",
     "text": [
      "('Lovelace', 'Ada')\n",
      "Ada Lovelace\n"
     ]
    }
   ],
   "source": [
    "# result.groups() method returns a tuple containing elements differed on the basis of groups formed by enclosing in parenthesis ()\n",
    "def name_format(text):\n",
    "    pattern = r\"^(\\w*), (\\w*)$\" # (\\w*) makes one group similarly if we make via ([a-z]*) this will form another group\n",
    "    result = re.search(pattern,text)\n",
    "    print(result.groups()) # prints the groups made due to ',' part acting as divider. This function just shows these values\n",
    "    return result[2]+\" \"+result[1] # result[0] contains the found string via the pattern\n",
    "\n",
    "print(name_format(\"Lovelace, Ada\"))\n",
    "#print(name_format(\"Hpper, GraceM.\")) # this will give error since the pattern doesn't match so result[1] access None which will give error\n",
    "# so we need to change pattern as : pattern = r\"^(\\w*), (\\w* ?\\w?\\.?)$\"  since it questions for existence of middle names value"
   ]
  },
  {
   "cell_type": "markdown",
   "metadata": {},
   "source": [
    "## If we want a specific number of values to be present we use {} :\n",
    "{5} tells that only 5 characters should be present of pattern after which {5} is written \\\n",
    "{5,10} makes the same argument just giving possible range b/w 5 to 10 \\\n",
    "{5,} makes that minimum 5 characters must be present following the pattern \\\n",
    "{,5} makes maximum 5 characters must be present following the pattern"
   ]
  },
  {
   "cell_type": "code",
   "execution_count": 59,
   "metadata": {},
   "outputs": [
    {
     "name": "stdout",
     "output_type": "stream",
     "text": [
      "<re.Match object; span=(2, 7), match='ghost'>\n",
      "['scary', 'ghost', 'appea']\n",
      "['scary', 'ghost']\n",
      "['really', 'Strawberri']\n",
      "['really', 'Strawberries']\n",
      "['I', '', 'reall', 'y', '', 'love', '', 'Straw', 'berri', 'es', '']\n"
     ]
    }
   ],
   "source": [
    "print(re.search(r\"[a-zA-Z]{5}\",\"a ghost\")) # also see that after writing {5} we don't require to use * or + after [a-zA-Z]\n",
    "print(re.findall(r\"[a-zA-Z]{5}\",\"a scary ghost appeared\")) # notice that partiall part was only taken if we don't want that : \n",
    "\n",
    "# \\b is used to make a word limit i.e. separated via space. the pattern should be enclosed within \\b pattern\\b for the word limit\n",
    "print(re.findall(r\"\\b[a-zA-Z]{5}\\b\",\"a scary ghost appeared\")) # only 5 letter words are allowed !\n",
    "\n",
    "print(re.findall(r\"\\w{5,10}\",\"I really love Strawberries\"))\n",
    "print(re.findall(r\"\\w{5,}\",\"I really love Strawberries\"))\n",
    "print(re.findall(r\"\\w{,5}\",\"I really love Strawberries\")) # since each word starting with '' also makes for less than 5 so they are included as well\n"
   ]
  },
  {
   "cell_type": "code",
   "execution_count": 62,
   "metadata": {},
   "outputs": [
    {
     "name": "stdout",
     "output_type": "stream",
     "text": [
      "<re.Match object; span=(39, 46), match='[12345]'>\n",
      "[12345] 12345\n"
     ]
    }
   ],
   "source": [
    "# a simple example of all the above implementation : \n",
    "log = 'July 31 07:51:48 mycomputer bad_process[12345]: error performing package upgrade'\n",
    "pattern = r\"\\[(\\d+)\\]\" # we made a group here so result[1] would contain data within square brackets \n",
    "result = re.search(pattern,log)\n",
    "print(result)\n",
    "print(result[0] +\" \"+ result[1])"
   ]
  },
  {
   "cell_type": "markdown",
   "metadata": {},
   "source": [
    "## Splitting and Replacing in Regular Expressions : \n",
    "we can split the raw string pattern using the function **re.split()**\\\n",
    "we can replace the raw string pattern using the function __re.sub()__"
   ]
  },
  {
   "cell_type": "code",
   "execution_count": 66,
   "metadata": {},
   "outputs": [
    {
     "name": "stdout",
     "output_type": "stream",
     "text": [
      "['One Sentence', ' Another One', ' And the last One', '']\n",
      "['One Sentence', '.', ' Another One', '!', ' And the last One', '?', '']\n",
      "Recieved an email for [NOT AVAILABLE]\n"
     ]
    },
    {
     "data": {
      "text/plain": [
       "'Ada Lovelace'"
      ]
     },
     "execution_count": 66,
     "metadata": {},
     "output_type": "execute_result"
    }
   ],
   "source": [
    "# splitting data : \n",
    "print(re.split(r\"[.?!]\",\"One Sentence. Another One! And the last One?\"))\n",
    "print(re.split(r\"([.?!])\",\"One Sentence. Another One! And the last One?\")) # if we want the splitters to be included to just group them !\n",
    "\n",
    "#replacing data : \n",
    "print(re.sub(r\"[\\w.%+-]+@[\\w.-]+\",\"[NOT AVAILABLE]\",\"Recieved an email for go_nuts95@gmail.com\")) #just provide the pattern to be replcaed with \n",
    "#also we can use groups directly to replace the string as as : \n",
    "re.sub(r\"^([\\w.-]*), ([\\w.-]*)$\",r\"\\2 \\1\",\"Lovelace, Ada\") # \\2 is the group2 and \\1 is group 1 which we used directly to replace in the string\n"
   ]
  },
  {
   "cell_type": "markdown",
   "metadata": {},
   "source": [
    "## a basic function to change the domain names of all the emails \n",
    "The given will convert all the emails with domain **abc.edu** to __xyz.edu__ "
   ]
  },
  {
   "cell_type": "code",
   "execution_count": 80,
   "metadata": {},
   "outputs": [
    {
     "name": "stdout",
     "output_type": "stream",
     "text": [
      "['Full Name', 'Email Address']\n",
      "['Blossom Gill', 'blossom@abc.edu']\n",
      "['Hayes Delgado', 'nonummy@utnisia.com']\n",
      "['Petra Jone', 'ac@abc.edu']\n",
      "['Oleg Noel', 'noel@liberomauris.ca']\n",
      "['Ahmed Miller', 'ahmed.miller@nequeno.co.uk']\n",
      "['Macaulay Douglas', 'mdouglas@xyz.edu']\n",
      "['Aurora Grant', 'enim.non@abc.edu']\n",
      "['Madison Mcintosh', 'mcintosh@nissan.net']\n",
      "['Montana Powell', 'Montanap@abc.edu']\n",
      "['rogan robinson', 'rr.robinson@abc.edu']\n",
      "['simon rivera', 'sri@abc.edu']\n",
      "['Benedict Pacheo', 'bpachecha@abc.edu']\n",
      "['Masie Hendricks', 'mai@abc.edu']\n",
      "['Xaviera Gould', 'xlg@utnisia.com']\n",
      "['Orin Rollins', 'orin@semmagna.com']\n",
      "['Flavia Santiago', 'flavia@utnisia.net']\n",
      "['Jackson Owens', 'jackOwens@abc.edu']\n",
      "['Brittani Humphrey', 'brittani@ut.net']\n",
      "['Kirk Nixxon', 'kirk@abc.edu']\n",
      "['Bree Campbell', 'breee@utnisia.net']\n"
     ]
    }
   ],
   "source": [
    "# making the csv file for the purpose of editing and making a new file : \n",
    "import csv\n",
    "x = [[\"Full Name\",\"Email Address\"],['Blossom Gill','blossom@abc.edu'],['Hayes Delgado','nonummy@utnisia.com'],['Petra Jone','ac@abc.edu']\n",
    "    ,['Oleg Noel','noel@liberomauris.ca'],['Ahmed Miller','ahmed.miller@nequeno.co.uk'],['Macaulay Douglas','mdouglas@xyz.edu']\n",
    "    ,['Aurora Grant','enim.non@abc.edu'],['Madison Mcintosh','mcintosh@nissan.net'],['Montana Powell','Montanap@abc.edu']\n",
    "    ,['rogan robinson','rr.robinson@abc.edu'],['simon rivera','sri@abc.edu'],['Benedict Pacheo','bpachecha@abc.edu']\n",
    "    ,['Masie Hendricks','mai@abc.edu'],['Xaviera Gould','xlg@utnisia.com'],['Orin Rollins','orin@semmagna.com'],['Flavia Santiago','flavia@utnisia.net']\n",
    "    ,['Jackson Owens','jackOwens@abc.edu'],['Brittani Humphrey','brittani@ut.net'],['Kirk Nixxon','kirk@abc.edu'],['Bree Campbell','breee@utnisia.net']]\n",
    "\n",
    "with open('user_emails.csv','w',newline = \"\") as file : \n",
    "    writer = csv.writer(file)\n",
    "    writer.writerows(x)\n",
    "    \n",
    "# checking all the written data : \n",
    "with open('user_emails.csv') as file :\n",
    "    reader = csv.reader(file)\n",
    "    for i in reader:\n",
    "        print(i)"
   ]
  },
  {
   "cell_type": "code",
   "execution_count": 90,
   "metadata": {},
   "outputs": [],
   "source": [
    "#!/usr/bin/env python3  (this line is for linux users !! in case using editor like vim or nano)\n",
    "\n",
    "import re\n",
    "import csv\n",
    "\n",
    "\n",
    "def contains_domain(address, domain): # function to check if the domain matches for the email address\n",
    "    \"\"\"Returns True if the email address contains the given,domain,in the domain position, false if not.\"\"\"\n",
    "    domain = r'[\\w\\.-]+@'+domain+'$' # our pattern to match\n",
    "    if re.match(domain,address):    # match() function simply returns true or false if given pattern matches \n",
    "        #print(True)\n",
    "        return True\n",
    "    return False\n",
    "\n",
    "def replace_domain(address, old_domain, new_domain): # as name suggests replacing the domain if the address domain matches\n",
    "    \"\"\"Replaces the old domain with the new domain in the received address.\"\"\"\n",
    "    old_domain_pattern = r'' + old_domain + '$'\n",
    "    address = re.sub(old_domain_pattern, new_domain, address)\n",
    "    return address\n",
    "\n",
    "def main():\n",
    "    \"\"\"Processes the list of emails, replacing any instances of the old domain with the new domain.\"\"\"\n",
    "    old_domain, new_domain = 'abc.edu', 'xyz.edu' # we are converting all the emails with @abc.edu to @xyz.edu\n",
    "    csv_file_location = 'user_emails.csv'#'<csv_file_location>' # location and name of file we are reading\n",
    "    report_file = 'updated_user_emails.csv'#'<path_to_home_directory>' + '/updated_user_emails.csv' # location and name of file we are saving \n",
    "    user_email_list = []\n",
    "    old_domain_email_list = []\n",
    "    new_domain_email_list = []\n",
    "    \n",
    "    with open(csv_file_location, 'r') as f:\n",
    "        user_data_list = list(csv.reader(f)) # taking all the row wise data as a single list\n",
    "        #print(user_data_list)\n",
    "        user_email_list = [data[1].strip() for data in user_data_list[1:]] # taking all the email addresses and stripping in case any space present \n",
    "        #print(user_email_list)\n",
    "        for email_address in user_email_list:\n",
    "            if contains_domain(email_address, old_domain):\n",
    "                old_domain_email_list.append(email_address)\n",
    "                replaced_email = replace_domain(email_address,old_domain,new_domain)\n",
    "                new_domain_email_list.append(replaced_email)\n",
    "        #print(new_domain_email_list)       \n",
    "        email_key = '' + 'Email Address'\n",
    "        email_index = user_data_list[0].index(email_key)\n",
    "        #print(email_index)\n",
    "        for user in user_data_list[1:]:\n",
    "            for old_domain, new_domain in zip(old_domain_email_list, new_domain_email_list):\n",
    "                if user[email_index] == '' + old_domain:\n",
    "                    user[email_index] = '' + new_domain\n",
    "    f.close()\n",
    "    with open(report_file, 'w+',newline=\"\") as output_file:\n",
    "        writer = csv.writer(output_file)\n",
    "        writer.writerows(user_data_list)\n",
    "        output_file.close()\n",
    "main()"
   ]
  },
  {
   "cell_type": "code",
   "execution_count": 91,
   "metadata": {},
   "outputs": [
    {
     "name": "stdout",
     "output_type": "stream",
     "text": [
      "old data : \n",
      "['Full Name', 'Email Address']\n",
      "['Blossom Gill', 'blossom@abc.edu']\n",
      "['Hayes Delgado', 'nonummy@utnisia.com']\n",
      "['Petra Jone', 'ac@abc.edu']\n",
      "['Oleg Noel', 'noel@liberomauris.ca']\n",
      "['Ahmed Miller', 'ahmed.miller@nequeno.co.uk']\n",
      "['Macaulay Douglas', 'mdouglas@xyz.edu']\n",
      "['Aurora Grant', 'enim.non@abc.edu']\n",
      "['Madison Mcintosh', 'mcintosh@nissan.net']\n",
      "['Montana Powell', 'Montanap@abc.edu']\n",
      "['rogan robinson', 'rr.robinson@abc.edu']\n",
      "['simon rivera', 'sri@abc.edu']\n",
      "['Benedict Pacheo', 'bpachecha@abc.edu']\n",
      "['Masie Hendricks', 'mai@abc.edu']\n",
      "['Xaviera Gould', 'xlg@utnisia.com']\n",
      "['Orin Rollins', 'orin@semmagna.com']\n",
      "['Flavia Santiago', 'flavia@utnisia.net']\n",
      "['Jackson Owens', 'jackOwens@abc.edu']\n",
      "['Brittani Humphrey', 'brittani@ut.net']\n",
      "['Kirk Nixxon', 'kirk@abc.edu']\n",
      "['Bree Campbell', 'breee@utnisia.net']\n",
      "new data : \n",
      "['Full Name', 'Email Address']\n",
      "['Blossom Gill', 'blossom@xyz.edu']\n",
      "['Hayes Delgado', 'nonummy@utnisia.com']\n",
      "['Petra Jone', 'ac@xyz.edu']\n",
      "['Oleg Noel', 'noel@liberomauris.ca']\n",
      "['Ahmed Miller', 'ahmed.miller@nequeno.co.uk']\n",
      "['Macaulay Douglas', 'mdouglas@xyz.edu']\n",
      "['Aurora Grant', 'enim.non@xyz.edu']\n",
      "['Madison Mcintosh', 'mcintosh@nissan.net']\n",
      "['Montana Powell', 'Montanap@xyz.edu']\n",
      "['rogan robinson', 'rr.robinson@xyz.edu']\n",
      "['simon rivera', 'sri@xyz.edu']\n",
      "['Benedict Pacheo', 'bpachecha@xyz.edu']\n",
      "['Masie Hendricks', 'mai@xyz.edu']\n",
      "['Xaviera Gould', 'xlg@utnisia.com']\n",
      "['Orin Rollins', 'orin@semmagna.com']\n",
      "['Flavia Santiago', 'flavia@utnisia.net']\n",
      "['Jackson Owens', 'jackOwens@xyz.edu']\n",
      "['Brittani Humphrey', 'brittani@ut.net']\n",
      "['Kirk Nixxon', 'kirk@xyz.edu']\n",
      "['Bree Campbell', 'breee@utnisia.net']\n"
     ]
    }
   ],
   "source": [
    "# printing data to check if it worked :\n",
    "\n",
    "#old data\n",
    "with open('user_emails.csv') as file :\n",
    "    reader = csv.reader(file)\n",
    "    print(\"old data : \")\n",
    "    for i in reader:\n",
    "        print(i)\n",
    "    file.close()\n",
    "#new data \n",
    "with open('updated_user_emails.csv') as file :\n",
    "    reader = csv.reader(file)\n",
    "    print(\"new data : \")\n",
    "    for i in reader:\n",
    "        print(i)"
   ]
  }
 ],
 "metadata": {
  "kernelspec": {
   "display_name": "Python 3",
   "language": "python",
   "name": "python3"
  },
  "language_info": {
   "codemirror_mode": {
    "name": "ipython",
    "version": 3
   },
   "file_extension": ".py",
   "mimetype": "text/x-python",
   "name": "python",
   "nbconvert_exporter": "python",
   "pygments_lexer": "ipython3",
   "version": "3.7.4"
  }
 },
 "nbformat": 4,
 "nbformat_minor": 2
}
