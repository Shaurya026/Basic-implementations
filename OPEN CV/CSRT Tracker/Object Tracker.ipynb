{
 "cells": [
  {
   "cell_type": "code",
   "execution_count": 8,
   "metadata": {},
   "outputs": [],
   "source": [
    "from imutils.video import VideoStream\n",
    "from imutils.video import FPS\n",
    "import argparse\n",
    "import imutils\n",
    "import time\n",
    "import cv2"
   ]
  },
  {
   "cell_type": "code",
   "execution_count": 10,
   "metadata": {},
   "outputs": [
    {
     "data": {
      "text/plain": [
       "'4.0.1'"
      ]
     },
     "execution_count": 10,
     "metadata": {},
     "output_type": "execute_result"
    }
   ],
   "source": [
    "cv2.__version__"
   ]
  },
  {
   "cell_type": "code",
   "execution_count": 11,
   "metadata": {},
   "outputs": [],
   "source": [
    "# making the tracker file : \n",
    "csrt = cv2.TrackerCSRT_create()"
   ]
  },
  {
   "cell_type": "code",
   "execution_count": 12,
   "metadata": {},
   "outputs": [],
   "source": [
    "# initialize the bounding box coordinates of the object we are going to track\n",
    "BB = None\n",
    "# initialize the FPS throughput estimator\n",
    "fps = None\n",
    "# initialize webcam :\n",
    "videocapture = cv2.VideoCapture(0)"
   ]
  },
  {
   "cell_type": "code",
   "execution_count": 13,
   "metadata": {},
   "outputs": [],
   "source": [
    "while True:\n",
    "    # grab the current frame, ### then handle if we are using a VideoStream object\n",
    "    frame = videocapture.read()\n",
    "    frame = frame[1]\n",
    "    # check to see if we have reached the end of the stream\n",
    "    if frame is None:\n",
    "        break\n",
    "    # resize the frame (so we can process it faster) and grab the frame dimensions\n",
    "    #frame = imutils.resize(frame, width=500)\n",
    "    (H, W) = frame.shape[:2]\n",
    "    \n",
    "    # check to see if we are currently tracking an object\n",
    "    if BB is not None:\n",
    "        # grab the new bounding box coordinates of the object\n",
    "        (success, box) = csrt.update(frame)\n",
    "        # check to see if the tracking was a success\n",
    "        if success:\n",
    "            (x, y, w, h) = [int(v) for v in box]\n",
    "            #cv2.rectangle(frame, (x, y), (x + w, y + h),(0, 255, 0), 2)\n",
    "            cv2.circle(frame,(x+w//2,y+h//2),80,(0,255,0),2)\n",
    "        # update the FPS counter\n",
    "        fps.update()\n",
    "        fps.stop()\n",
    "        # initialize the set of information we'll be displaying on the frame\n",
    "        info = [\n",
    "            (\"Tracker\", \"CSRT\"),\n",
    "            (\"Success\", \"Yes\" if success else \"No\"),\n",
    "            (\"FPS\", \"{:.2f}\".format(fps.fps())),\n",
    "        ]\n",
    "        # loop over the info tuples and draw them on our frame\n",
    "        for (i, (k, v)) in enumerate(info):\n",
    "            text = \"{}: {}\".format(k, v)\n",
    "            cv2.putText(frame, text, (10, H - ((i * 20) + 20)),\n",
    "                cv2.FONT_HERSHEY_SIMPLEX, 0.6, (0, 0, 255), 2)\n",
    "        \n",
    "        # show the output frame\n",
    "    cv2.imshow(\"Frame\", frame)\n",
    "    key = cv2.waitKey(1) & 0xFF\n",
    "    # if the 's' key is selected, we are going to \"select\" a bounding box to track\n",
    "    if key == ord(\"s\"):\n",
    "        # select the bounding box of the object we want to track (make sure you press ENTER or SPACE after selecting the ROI)\n",
    "        BB = cv2.selectROI(\"Frame\", frame, fromCenter=False, showCrosshair=True)\n",
    "        #print(BB)\n",
    "        \n",
    "#         csrt.save(\"default_csrt.xml\") # saves default values of the Tracker\n",
    "#                                     you can rename default_csrt.xml-> custom_csrt.xml \n",
    "# #                                     and change values in it and use it load params\n",
    "\n",
    "#         fs = cv2.FileStorage(\"custom_csrt.xml\",cv2.FILE_STORAGE_READ)\n",
    "#         fn = fs.getFirstTopLevelNode()\n",
    "#         csrt.read(fn)\n",
    "        \n",
    "        \n",
    "        # start OpenCV object tracker using the supplied bounding boxcoordinates, \n",
    "        # then start the FPS throughput estimator as well\n",
    "        csrt.init(frame, BB)\n",
    "        \n",
    "        \n",
    "        fps = FPS().start()\n",
    "        \n",
    "    # if the `q` key was pressed, break from the loop\n",
    "    elif key == ord(\"q\"):\n",
    "        break"
   ]
  },
  {
   "cell_type": "code",
   "execution_count": 14,
   "metadata": {},
   "outputs": [],
   "source": [
    "# if we are using a webcam, release the pointer\n",
    "#if not args.get(\"video\", False):\n",
    "#    vs.stop()\n",
    "# otherwise, release the file pointer\n",
    "#else:\n",
    "videocapture.release()\n",
    "# close all windows\n",
    "cv2.destroyAllWindows()"
   ]
  },
  {
   "cell_type": "code",
   "execution_count": null,
   "metadata": {},
   "outputs": [],
   "source": []
  }
 ],
 "metadata": {
  "kernelspec": {
   "display_name": "Python 3",
   "language": "python",
   "name": "python3"
  },
  "language_info": {
   "codemirror_mode": {
    "name": "ipython",
    "version": 3
   },
   "file_extension": ".py",
   "mimetype": "text/x-python",
   "name": "python",
   "nbconvert_exporter": "python",
   "pygments_lexer": "ipython3",
   "version": "3.8.3"
  }
 },
 "nbformat": 4,
 "nbformat_minor": 4
}
