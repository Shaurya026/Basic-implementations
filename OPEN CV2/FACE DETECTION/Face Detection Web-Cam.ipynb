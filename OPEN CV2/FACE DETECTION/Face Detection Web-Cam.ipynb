{
 "cells": [
  {
   "cell_type": "code",
   "execution_count": 1,
   "metadata": {},
   "outputs": [],
   "source": [
    "import cv2 \n",
    "import sys"
   ]
  },
  {
   "cell_type": "code",
   "execution_count": 5,
   "metadata": {},
   "outputs": [],
   "source": [
    "faceCascade = cv2.CascadeClassifier(cv2.data.haarcascades + 'haarcascade_frontalface_default.xml')\n",
    "video_capture = cv2.VideoCapture(0)\n",
    "img_counter = 0"
   ]
  },
  {
   "cell_type": "code",
   "execution_count": 6,
   "metadata": {},
   "outputs": [],
   "source": [
    "while True:\n",
    "    # capture frame by frame : \n",
    "    ret,frame = video_capture.read()\n",
    "    gray = cv2.cvtColor(frame,cv2.COLOR_BGR2GRAY)\n",
    "    k = cv2.waitKey(1)\n",
    "    \n",
    "    faces = faceCascade.detectMultiScale(gray,\n",
    "                                        scaleFactor = 1.5,\n",
    "                                        minNeighbors = 5,\n",
    "                                        minSize = (50,50),\n",
    "                                        flags = cv2.CASCADE_SCALE_IMAGE)\n",
    "    # Drawing Rectangle : \n",
    "    for (x,y,w,h) in faces: \n",
    "        cv2.rectangle(frame,(x,y),(x+w,y+h),(0,255,0),2)\n",
    "        \n",
    "    # display frame :\n",
    "    cv2.imshow('FaceDetection',frame)\n",
    "    \n",
    "    if k%256 == 27: # escape pressed\n",
    "        break\n",
    "    elif k%256 == 32: # space pressed\n",
    "        img_name = 'face_detection_webcam_{}.png'.format(img_counter)\n",
    "        cv2.imwriter(img_name,frame)\n",
    "        print(\"{} written!\".format(img_name))\n",
    "        img_counter += 1\n",
    "\n",
    "# releasing capture : \n",
    "video_capture.release()\n",
    "cv2.destroyAllWindows()"
   ]
  },
  {
   "cell_type": "code",
   "execution_count": null,
   "metadata": {},
   "outputs": [],
   "source": []
  }
 ],
 "metadata": {
  "kernelspec": {
   "display_name": "Python 3",
   "language": "python",
   "name": "python3"
  },
  "language_info": {
   "codemirror_mode": {
    "name": "ipython",
    "version": 3
   },
   "file_extension": ".py",
   "mimetype": "text/x-python",
   "name": "python",
   "nbconvert_exporter": "python",
   "pygments_lexer": "ipython3",
   "version": "3.7.6"
  }
 },
 "nbformat": 4,
 "nbformat_minor": 4
}
