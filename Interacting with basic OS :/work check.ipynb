{
 "cells": [
  {
   "cell_type": "markdown",
   "metadata": {},
   "source": [
    "# health_checks code ;"
   ]
  },
  {
   "cell_type": "code",
   "execution_count": 1,
   "metadata": {},
   "outputs": [
    {
     "name": "stdout",
     "output_type": "stream",
     "text": [
      "available free space of total 82.62779081712678 %\n",
      "performace during this sec 2.1 %\n",
      "Everything is OK\n"
     ]
    }
   ],
   "source": [
    "import shutil\n",
    "import psutil\n",
    "\n",
    "def check_disk_usage(disk):\n",
    "    du = shutil.disk_usage(disk)\n",
    "    free = du.free/du.total * 100\n",
    "    print(\"available free space of total\",free,\"%\")\n",
    "    return free > 20\n",
    "\n",
    "def check_CPU_usage():\n",
    "    usage = psutil.cpu_percent(1) # 1 here represents performance during the 1 second\n",
    "    print(\"performace during this sec\",usage,\"%\")\n",
    "    return usage < 75\n",
    "\n",
    "if not check_disk_usage(\"/\") or not check_CPU_usage() : \n",
    "    print(\"error\")\n",
    "else:\n",
    "    print(\"Everything is OK\")"
   ]
  },
  {
   "cell_type": "markdown",
   "metadata": {},
   "source": [
    "## now this code is used on virtual machine where we interacted all this in linux \n",
    "Now to check on network of this we need to work on using \"requests\" library so to install Requests all we need to do is : \n",
    "## sudo apt install python3-requests\n",
    "But in anaconda we do it using : \n",
    "## pip install requests :"
   ]
  },
  {
   "cell_type": "code",
   "execution_count": 2,
   "metadata": {},
   "outputs": [
    {
     "name": "stdout",
     "output_type": "stream",
     "text": [
      "Requirement already satisfied: requests in c:\\users\\shaur\\anaconda3\\lib\\site-packages (2.22.0)\n",
      "Requirement already satisfied: urllib3!=1.25.0,!=1.25.1,<1.26,>=1.21.1 in c:\\users\\shaur\\anaconda3\\lib\\site-packages (from requests) (1.24.2)\n",
      "Requirement already satisfied: idna<2.9,>=2.5 in c:\\users\\shaur\\anaconda3\\lib\\site-packages (from requests) (2.8)\n",
      "Requirement already satisfied: certifi>=2017.4.17 in c:\\users\\shaur\\anaconda3\\lib\\site-packages (from requests) (2019.9.11)\n",
      "Requirement already satisfied: chardet<3.1.0,>=3.0.2 in c:\\users\\shaur\\anaconda3\\lib\\site-packages (from requests) (3.0.4)\n",
      "Note: you may need to restart the kernel to use updated packages.\n"
     ]
    }
   ],
   "source": [
    "pip install requests"
   ]
  },
  {
   "cell_type": "markdown",
   "metadata": {},
   "source": [
    "### Now to make the required changes in Linux one needs to make \"#!/usr/bin/env python3\" at the start  of each file"
   ]
  },
  {
   "cell_type": "markdown",
   "metadata": {},
   "source": [
    "#### Now we will make check on our networks to make sure the system works well in netwok too : "
   ]
  },
  {
   "cell_type": "code",
   "execution_count": 4,
   "metadata": {},
   "outputs": [],
   "source": [
    "import socket #To check whether the local host is correctly configured, we use the socket module\n",
    "import requests #you can use it to send all kinds of HTTP requests.\n",
    "\n",
    "def check_localhost():\n",
    "    localhost = socket.gethostbyname(\"localhost\") # since local host is our home address which is always : 127.0.0.1\n",
    "    return localhost == \"127.0.0.1\" # checking that address is same else there is an issue\n",
    "\n",
    "def check_connectivity(): # This checks whether the computer can make successful calls to the internet.\n",
    "    request = requests.get(\"http://www.google.com\")\n",
    "    return request.status_code == 200 # 200 is the status code for google so it should match as well "
   ]
  },
  {
   "cell_type": "markdown",
   "metadata": {},
   "source": [
    "## Now to combine it all together we can do we can have the network code saved in as network.py and the first code as health_checks.py to combine them we can do :\n",
    "### from network import * # means import all code from network i.e. full module"
   ]
  },
  {
   "cell_type": "code",
   "execution_count": null,
   "metadata": {},
   "outputs": [],
   "source": [
    "from network import * # code implementation\n",
    "\n",
    "import shutil\n",
    "import psutil\n",
    "\n",
    "def check_disk_usage(disk):\n",
    "    du = shutil.disk_usage(disk)\n",
    "    free = du.free/du.total * 100\n",
    "    print(\"available free space of total\",free,\"%\")\n",
    "    return free > 20\n",
    "\n",
    "def check_CPU_usage():\n",
    "    usage = psutil.cpu_percent(1) # 1 here represents performance during the 1 second\n",
    "    print(\"performace during this sec\",usage,\"%\")\n",
    "    return usage < 75\n",
    "\"\"\" This part of code is what we need to make run separate since we didn't make any network file it will give us an error\"\"\"\n",
    "if not check_disk_usage(\"/\") or not check_CPU_usage() : \n",
    "    print(\"error\")\n",
    "elif check_localhost() and check_connectivity():\n",
    "    print(\"Everything OK\")\n",
    "else:\n",
    "    print(\"error\")"
   ]
  },
  {
   "cell_type": "code",
   "execution_count": 6,
   "metadata": {},
   "outputs": [
    {
     "name": "stdout",
     "output_type": "stream",
     "text": [
      "available free space of total 82.62784294226758 %\n",
      "performace during this sec 5.2 %\n",
      "Everything OK\n"
     ]
    }
   ],
   "source": [
    "\"\"\" Checking if the implementation is correct or not : \"\"\"\n",
    "if not check_disk_usage(\"/\") or not check_CPU_usage() : \n",
    "    print(\"error\")\n",
    "elif check_localhost() and check_connectivity():\n",
    "    print(\"Everything OK\")\n",
    "else:\n",
    "    print(\"error\")"
   ]
  }
 ],
 "metadata": {
  "kernelspec": {
   "display_name": "Python 3",
   "language": "python",
   "name": "python3"
  },
  "language_info": {
   "codemirror_mode": {
    "name": "ipython",
    "version": 3
   },
   "file_extension": ".py",
   "mimetype": "text/x-python",
   "name": "python",
   "nbconvert_exporter": "python",
   "pygments_lexer": "ipython3",
   "version": "3.7.4"
  }
 },
 "nbformat": 4,
 "nbformat_minor": 2
}
