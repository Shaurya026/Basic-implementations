{
 "cells": [
  {
   "cell_type": "markdown",
   "metadata": {},
   "source": [
    "# File Handling : "
   ]
  },
  {
   "cell_type": "code",
   "execution_count": 1,
   "metadata": {},
   "outputs": [],
   "source": [
    "## Again basic code in linux to go to file directory : \n",
    "# cd data                     # this will take us to the directory data \n",
    "# ls                          # to see all the contents in current directory\n",
    "# cat employees.csv           # to see the data \n",
    "# cd ~/scripts                # to write script for our purpose here\n",
    "# nano generate_report.py     # for making a new script with name \n",
    "\n",
    "# !/usr/bin/env python3       # again for linux in nano editor we need to write this line !"
   ]
  },
  {
   "cell_type": "markdown",
   "metadata": {},
   "source": [
    "## now we will first make a csv file of the data as in this picture : \n",
    "![pictue](data.png)"
   ]
  },
  {
   "cell_type": "code",
   "execution_count": 2,
   "metadata": {},
   "outputs": [],
   "source": [
    "import csv\n",
    "\n",
    "# creating the above data : \n",
    "\n",
    "x = [['Full Name','Username','Department'],['Audrey Miller','audrey','Development'],['Arden Garcia','ardeng','Sales'],\n",
    "     ['Bailey Thomas','baileyt','Human Resources'],['Blake Sousa','sousa','IT infrastructure'],\n",
    "     ['Cameron Nguyen','nguyen','Marketing'],['Charlie Grey','greyc','Development'],['Chris Black','chrisb','User Experience Research'],\n",
    "     ['Courtney Silva','silva','IT infrastructure'],['Darcy Johnson','darcy','IT infrastructure'],\n",
    "     ['Elliot Lamb','elliotl','Development'],['Emery Halls','halls','Sales'],['Flynn McMillan','flynn','Marketing'],\n",
    "     ['Harley Klose','harley','Human Resources'],['Jean May Coy','jeanm','Vendor operations'],['Kay Stevens','kstev','Sales'],\n",
    "     ['Lio Nelson','lion','User Experience Research'],['Logan Tillas','tillas','Vendor operations'],['Micah Lopes','micah','Development'],\n",
    "     ['Sol Mansi','solm','IT infrastructure']]\n",
    "\n",
    "#print(x)\n",
    "# we can also do (just the format possible !)\n",
    "'''with open(filename, \"w\") as file:\n",
    "    file.write(\"name,color,type\\n\")\n",
    "    file.write(\"carnation,pink,annual\\n\")\n",
    "    file.write(\"daffodil,yellow,perennial\\n\")\n",
    "    file.write(\"iris,blue,perennial\\n\")\n",
    "    file.write(\"poinsettia,red,perennial\\n\")\n",
    "    file.write(\"sunflower,yellow,annual\\n\")'''\n",
    "\n",
    "# writing the data in format to csv : \n",
    "with open('employees.csv','w',newline = \"\") as file: ##** important if new line is not written then an additional [] is created after each line **##\n",
    "    writer = csv.writer(file)\n",
    "    writer.writerows(x) #writing all data at once\n",
    "#     for i in x :\n",
    "#         writer.writerow(i)\n",
    "    \n",
    "#checking if it works or not : \n",
    "with open('employees.csv') as file :\n",
    "    reader = csv.reader(file)\n",
    "    for i in reader:\n",
    "        print(i)"
   ]
  },
  {
   "cell_type": "markdown",
   "metadata": {},
   "source": [
    "## Now making our function for a little analysis on departments : "
   ]
  },
  {
   "cell_type": "code",
   "execution_count": 3,
   "metadata": {},
   "outputs": [
    {
     "name": "stdout",
     "output_type": "stream",
     "text": [
      "[OrderedDict([('Full Name', 'Audrey Miller'), ('Username', 'audrey'), ('Department', 'Development')]), OrderedDict([('Full Name', 'Arden Garcia'), ('Username', 'ardeng'), ('Department', 'Sales')]), OrderedDict([('Full Name', 'Bailey Thomas'), ('Username', 'baileyt'), ('Department', 'Human Resources')]), OrderedDict([('Full Name', 'Blake Sousa'), ('Username', 'sousa'), ('Department', 'IT infrastructure')]), OrderedDict([('Full Name', 'Cameron Nguyen'), ('Username', 'nguyen'), ('Department', 'Marketing')]), OrderedDict([('Full Name', 'Charlie Grey'), ('Username', 'greyc'), ('Department', 'Development')]), OrderedDict([('Full Name', 'Chris Black'), ('Username', 'chrisb'), ('Department', 'User Experience Research')]), OrderedDict([('Full Name', 'Courtney Silva'), ('Username', 'silva'), ('Department', 'IT infrastructure')]), OrderedDict([('Full Name', 'Darcy Johnson'), ('Username', 'darcy'), ('Department', 'IT infrastructure')]), OrderedDict([('Full Name', 'Elliot Lamb'), ('Username', 'elliotl'), ('Department', 'Development')]), OrderedDict([('Full Name', 'Emery Halls'), ('Username', 'halls'), ('Department', 'Sales')]), OrderedDict([('Full Name', 'Flynn McMillan'), ('Username', 'flynn'), ('Department', 'Marketing')]), OrderedDict([('Full Name', 'Harley Klose'), ('Username', 'harley'), ('Department', 'Human Resources')]), OrderedDict([('Full Name', 'Jean May Coy'), ('Username', 'jeanm'), ('Department', 'Vendor operations')]), OrderedDict([('Full Name', 'Kay Stevens'), ('Username', 'kstev'), ('Department', 'Sales')]), OrderedDict([('Full Name', 'Lio Nelson'), ('Username', 'lion'), ('Department', 'User Experience Research')]), OrderedDict([('Full Name', 'Logan Tillas'), ('Username', 'tillas'), ('Department', 'Vendor operations')]), OrderedDict([('Full Name', 'Micah Lopes'), ('Username', 'micah'), ('Department', 'Development')]), OrderedDict([('Full Name', 'Sol Mansi'), ('Username', 'solm'), ('Department', 'IT infrastructure')])]\n"
     ]
    }
   ],
   "source": [
    "def read_employees(csv_file_location):\n",
    "    # we will read data using dictionary : \n",
    "    with open(csv_file_location) as file : \n",
    "        csv.register_dialect('empDialect', skipinitialspace=True, strict=True) # dialect makes all the fields stanf with corresponding data \n",
    "        employee_file = csv.DictReader(file, dialect = 'empDialect')  # we can also write as csv.DictReader(open(csv_file_location), dialect = 'empDialect') \n",
    "        employee_list = []\n",
    "        for data in employee_file:\n",
    "            employee_list.append(data)\n",
    "    return employee_list\n",
    "\n",
    "# testing it out : \n",
    "employee_list = read_employees('employees.csv') # since we are in the same directory though we can use file location also !\n",
    "print(employee_list)"
   ]
  },
  {
   "cell_type": "code",
   "execution_count": 4,
   "metadata": {},
   "outputs": [
    {
     "name": "stdout",
     "output_type": "stream",
     "text": [
      "{'User Experience Research': 2, 'Sales': 3, 'Marketing': 2, 'Development': 4, 'IT infrastructure': 4, 'Vendor operations': 2, 'Human Resources': 2}\n"
     ]
    }
   ],
   "source": [
    "# Procecssing data : \n",
    "def process_data(employee_list):\n",
    "    department_list = []  # making list of all departments \n",
    "    for employee_data in employee_list:\n",
    "        department_list.append(employee_data['Department']) # taking in all departments \n",
    "        department_data = {}\n",
    "        for department_name in set(department_list):\n",
    "            department_data[department_name] = department_list.count(department_name)\n",
    "    return department_data\n",
    "\n",
    "# checking how it works : \n",
    "dictionary = process_data(employee_list)\n",
    "print(dictionary)"
   ]
  },
  {
   "cell_type": "code",
   "execution_count": 5,
   "metadata": {},
   "outputs": [
    {
     "name": "stdout",
     "output_type": "stream",
     "text": [
      "Development:4\n",
      "Human Resources:2\n",
      "IT infrastructure:4\n",
      "Marketing:2\n",
      "Sales:3\n",
      "User Experience Research:2\n",
      "Vendor operations:2\n"
     ]
    }
   ],
   "source": [
    "# Finally generating the report : \n",
    "def write_report(dictionary, report_file):\n",
    "    with open(report_file, \"w+\") as f:\n",
    "        for k in sorted(dictionary):\n",
    "            f.write(str(k)+':'+str(dictionary[k])+'\\n') # writing data in our format that we want \n",
    "# also we are forming a text format here ! \n",
    "write_report(dictionary, 'report.txt') # again here we juts put filename because we are in the same directory\n",
    "\n",
    "#cheking out our report : \n",
    "with open('report.txt') as file : \n",
    "    #print(file.readline())\n",
    "    # or the proper format will be : \n",
    "    for i in file : \n",
    "        print(i,end= \"\")"
   ]
  }
 ],
 "metadata": {
  "kernelspec": {
   "display_name": "Python 3",
   "language": "python",
   "name": "python3"
  },
  "language_info": {
   "codemirror_mode": {
    "name": "ipython",
    "version": 3
   },
   "file_extension": ".py",
   "mimetype": "text/x-python",
   "name": "python",
   "nbconvert_exporter": "python",
   "pygments_lexer": "ipython3",
   "version": "3.7.4"
  }
 },
 "nbformat": 4,
 "nbformat_minor": 2
}
